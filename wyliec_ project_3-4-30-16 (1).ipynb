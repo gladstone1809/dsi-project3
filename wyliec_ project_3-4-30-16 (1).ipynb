{
 "cells": [
  {
   "cell_type": "markdown",
   "metadata": {},
   "source": [
    "Link to dataset: https://data.iowa.gov/Economy/Iowa-Liquor-Sales/m3tr-qhgy\n",
    "\n",
    "Scenario 1: State tax board\n",
    "\n",
    "You are a data scientist in residence at the Iowa State tax board. The Iowa State legislature is considering changes in the liquor tax rates and wants a report of current liquor sales by county and projections for the rest of the year.\n",
    "\n",
    "Goal for Scenario #1: Your task is as follows:\n",
    "\n",
    "Calculate the yearly liquor sales for each score using the provided data. You can add up the transactions for each year, and store sales in 2015 specifically will be used later as your target variable.\n",
    "\n",
    "\n",
    "Use the data from 2015 to make a linear model using as many variables as you find useful to predict the yearly sales of each store. You must use the sales from Jan to March per store as one of your variables.\n",
    "\n",
    "\n",
    "Use your model for 2015 to estimate total sales for each store in 2016, extrapolating from the sales so far for Jan-March of 2016.\n",
    "\n",
    "\n",
    "Report your findings, including any projected increase or decrease in total sales (over the entire state) for the tax committee of the Iowa legislature.\n",
    "\n",
    "Use cross-validation to check how your model predicts to held out data compared to the model metrics on the full dataset.\n",
    "\n",
    "Challenging Bonus: We did not cover the topics of regularization for linear regression this week, but those feeling bold can try to use and understand regularizing linear regressions. This will require self-guided research/reading and scikit-learn functions that we have not gone over in class! Use cross-validation to tune the regularization parameter that maximizes R^2 on your holdout sets for the Ridge regression and the Lasso Regression. Do the regularized models perform better than the non-regularized model? Which regularized model performs better? What is the Ridge regression doing? What is the Lasso doing.\n",
    "\n",
    "\n",
    "\n"
   ]
  },
  {
   "cell_type": "code",
   "execution_count": 1,
   "metadata": {
    "collapsed": false
   },
   "outputs": [
    {
     "name": "stderr",
     "output_type": "stream",
     "text": [
      "//anaconda/lib/python2.7/site-packages/IPython/html.py:14: ShimWarning: The `IPython.html` package has been deprecated. You should import from `notebook` instead. `IPython.html.widgets` has moved to `ipywidgets`.\n",
      "  \"`IPython.html.widgets` has moved to `ipywidgets`.\", ShimWarning)\n"
     ]
    }
   ],
   "source": [
    "#load modules and data\n",
    "# tweak the model \n",
    "# subset for max counties \n",
    "\n",
    "import pandas as pd\n",
    "import numpy as np\n",
    "import csv\n",
    "import matplotlib.pyplot as plt\n",
    "import seaborn as sns\n",
    "\n",
    "% matplotlib inline\n",
    "\n",
    "from collections import defaultdict\n",
    "import datetime\n",
    "from sklearn import linear_model\n",
    "import statsmodels.api as sm\n",
    "from sklearn.metrics import mean_squared_error\n",
    "from scipy import stats\n",
    "from sklearn.cross_validation import train_test_split\n",
    "from sklearn.cross_validation import cross_val_predict\n",
    "\n",
    "#full data set\n",
    "df = pd.read_csv('./Iowa_Liquor_sales_sample_10pct.csv')\n",
    "\n",
    "#sample of dataset\n",
    "# df = liq.sample(n = 100000)\n"
   ]
  },
  {
   "cell_type": "code",
   "execution_count": 2,
   "metadata": {
    "collapsed": false
   },
   "outputs": [
    {
     "data": {
      "text/html": [
       "<div>\n",
       "<table border=\"1\" class=\"dataframe\">\n",
       "  <thead>\n",
       "    <tr style=\"text-align: right;\">\n",
       "      <th></th>\n",
       "      <th>Date</th>\n",
       "      <th>Store Number</th>\n",
       "      <th>City</th>\n",
       "      <th>Zip Code</th>\n",
       "      <th>County Number</th>\n",
       "      <th>County</th>\n",
       "      <th>Category</th>\n",
       "      <th>Category Name</th>\n",
       "      <th>Vendor Number</th>\n",
       "      <th>Item Number</th>\n",
       "      <th>Item Description</th>\n",
       "      <th>Bottle Volume (ml)</th>\n",
       "      <th>State Bottle Cost</th>\n",
       "      <th>State Bottle Retail</th>\n",
       "      <th>Bottles Sold</th>\n",
       "      <th>Sale (Dollars)</th>\n",
       "      <th>Volume Sold (Liters)</th>\n",
       "      <th>Volume Sold (Gallons)</th>\n",
       "    </tr>\n",
       "  </thead>\n",
       "  <tbody>\n",
       "    <tr>\n",
       "      <th>0</th>\n",
       "      <td>11/04/2015</td>\n",
       "      <td>3717</td>\n",
       "      <td>SUMNER</td>\n",
       "      <td>50674</td>\n",
       "      <td>9.0</td>\n",
       "      <td>Bremer</td>\n",
       "      <td>1051100.0</td>\n",
       "      <td>APRICOT BRANDIES</td>\n",
       "      <td>55</td>\n",
       "      <td>54436</td>\n",
       "      <td>Mr. Boston Apricot Brandy</td>\n",
       "      <td>750</td>\n",
       "      <td>$4.50</td>\n",
       "      <td>$6.75</td>\n",
       "      <td>12</td>\n",
       "      <td>$81.00</td>\n",
       "      <td>9.0</td>\n",
       "      <td>2.38</td>\n",
       "    </tr>\n",
       "    <tr>\n",
       "      <th>1</th>\n",
       "      <td>03/02/2016</td>\n",
       "      <td>2614</td>\n",
       "      <td>DAVENPORT</td>\n",
       "      <td>52807</td>\n",
       "      <td>82.0</td>\n",
       "      <td>Scott</td>\n",
       "      <td>1011100.0</td>\n",
       "      <td>BLENDED WHISKIES</td>\n",
       "      <td>395</td>\n",
       "      <td>27605</td>\n",
       "      <td>Tin Cup</td>\n",
       "      <td>750</td>\n",
       "      <td>$13.75</td>\n",
       "      <td>$20.63</td>\n",
       "      <td>2</td>\n",
       "      <td>$41.26</td>\n",
       "      <td>1.5</td>\n",
       "      <td>0.40</td>\n",
       "    </tr>\n",
       "    <tr>\n",
       "      <th>2</th>\n",
       "      <td>02/11/2016</td>\n",
       "      <td>2106</td>\n",
       "      <td>CEDAR FALLS</td>\n",
       "      <td>50613</td>\n",
       "      <td>7.0</td>\n",
       "      <td>Black Hawk</td>\n",
       "      <td>1011200.0</td>\n",
       "      <td>STRAIGHT BOURBON WHISKIES</td>\n",
       "      <td>65</td>\n",
       "      <td>19067</td>\n",
       "      <td>Jim Beam</td>\n",
       "      <td>1000</td>\n",
       "      <td>$12.59</td>\n",
       "      <td>$18.89</td>\n",
       "      <td>24</td>\n",
       "      <td>$453.36</td>\n",
       "      <td>24.0</td>\n",
       "      <td>6.34</td>\n",
       "    </tr>\n",
       "    <tr>\n",
       "      <th>3</th>\n",
       "      <td>02/03/2016</td>\n",
       "      <td>2501</td>\n",
       "      <td>AMES</td>\n",
       "      <td>50010</td>\n",
       "      <td>85.0</td>\n",
       "      <td>Story</td>\n",
       "      <td>1071100.0</td>\n",
       "      <td>AMERICAN COCKTAILS</td>\n",
       "      <td>395</td>\n",
       "      <td>59154</td>\n",
       "      <td>1800 Ultimate Margarita</td>\n",
       "      <td>1750</td>\n",
       "      <td>$9.50</td>\n",
       "      <td>$14.25</td>\n",
       "      <td>6</td>\n",
       "      <td>$85.50</td>\n",
       "      <td>10.5</td>\n",
       "      <td>2.77</td>\n",
       "    </tr>\n",
       "    <tr>\n",
       "      <th>4</th>\n",
       "      <td>08/18/2015</td>\n",
       "      <td>3654</td>\n",
       "      <td>BELMOND</td>\n",
       "      <td>50421</td>\n",
       "      <td>99.0</td>\n",
       "      <td>Wright</td>\n",
       "      <td>1031080.0</td>\n",
       "      <td>VODKA 80 PROOF</td>\n",
       "      <td>297</td>\n",
       "      <td>35918</td>\n",
       "      <td>Five O'clock Vodka</td>\n",
       "      <td>1750</td>\n",
       "      <td>$7.20</td>\n",
       "      <td>$10.80</td>\n",
       "      <td>12</td>\n",
       "      <td>$129.60</td>\n",
       "      <td>21.0</td>\n",
       "      <td>5.55</td>\n",
       "    </tr>\n",
       "  </tbody>\n",
       "</table>\n",
       "</div>"
      ],
      "text/plain": [
       "         Date  Store Number         City Zip Code  County Number      County  \\\n",
       "0  11/04/2015          3717       SUMNER    50674            9.0      Bremer   \n",
       "1  03/02/2016          2614    DAVENPORT    52807           82.0       Scott   \n",
       "2  02/11/2016          2106  CEDAR FALLS    50613            7.0  Black Hawk   \n",
       "3  02/03/2016          2501         AMES    50010           85.0       Story   \n",
       "4  08/18/2015          3654      BELMOND    50421           99.0      Wright   \n",
       "\n",
       "    Category              Category Name  Vendor Number  Item Number  \\\n",
       "0  1051100.0           APRICOT BRANDIES             55        54436   \n",
       "1  1011100.0           BLENDED WHISKIES            395        27605   \n",
       "2  1011200.0  STRAIGHT BOURBON WHISKIES             65        19067   \n",
       "3  1071100.0         AMERICAN COCKTAILS            395        59154   \n",
       "4  1031080.0             VODKA 80 PROOF            297        35918   \n",
       "\n",
       "            Item Description  Bottle Volume (ml) State Bottle Cost  \\\n",
       "0  Mr. Boston Apricot Brandy                 750             $4.50   \n",
       "1                    Tin Cup                 750            $13.75   \n",
       "2                   Jim Beam                1000            $12.59   \n",
       "3    1800 Ultimate Margarita                1750             $9.50   \n",
       "4         Five O'clock Vodka                1750             $7.20   \n",
       "\n",
       "  State Bottle Retail  Bottles Sold Sale (Dollars)  Volume Sold (Liters)  \\\n",
       "0               $6.75            12         $81.00                   9.0   \n",
       "1              $20.63             2         $41.26                   1.5   \n",
       "2              $18.89            24        $453.36                  24.0   \n",
       "3              $14.25             6         $85.50                  10.5   \n",
       "4              $10.80            12        $129.60                  21.0   \n",
       "\n",
       "   Volume Sold (Gallons)  \n",
       "0                   2.38  \n",
       "1                   0.40  \n",
       "2                   6.34  \n",
       "3                   2.77  \n",
       "4                   5.55  "
      ]
     },
     "execution_count": 2,
     "metadata": {},
     "output_type": "execute_result"
    }
   ],
   "source": [
    "df.head()"
   ]
  },
  {
   "cell_type": "code",
   "execution_count": 3,
   "metadata": {
    "collapsed": false
   },
   "outputs": [
    {
     "data": {
      "text/plain": [
       "Date                      object\n",
       "Store Number               int64\n",
       "City                      object\n",
       "Zip Code                  object\n",
       "County Number            float64\n",
       "County                    object\n",
       "Category                 float64\n",
       "Category Name             object\n",
       "Vendor Number              int64\n",
       "Item Number                int64\n",
       "Item Description          object\n",
       "Bottle Volume (ml)         int64\n",
       "State Bottle Cost         object\n",
       "State Bottle Retail       object\n",
       "Bottles Sold               int64\n",
       "Sale (Dollars)            object\n",
       "Volume Sold (Liters)     float64\n",
       "Volume Sold (Gallons)    float64\n",
       "dtype: object"
      ]
     },
     "execution_count": 3,
     "metadata": {},
     "output_type": "execute_result"
    }
   ],
   "source": [
    "df.dtypes"
   ]
  },
  {
   "cell_type": "code",
   "execution_count": 4,
   "metadata": {
    "collapsed": false
   },
   "outputs": [
    {
     "name": "stdout",
     "output_type": "stream",
     "text": [
      "<class 'pandas.core.frame.DataFrame'>\n",
      "RangeIndex: 270955 entries, 0 to 270954\n",
      "Data columns (total 18 columns):\n",
      "Date                     270955 non-null object\n",
      "Store Number             270955 non-null int64\n",
      "City                     270955 non-null object\n",
      "Zip Code                 270955 non-null object\n",
      "County Number            269878 non-null float64\n",
      "County                   269878 non-null object\n",
      "Category                 270887 non-null float64\n",
      "Category Name            270323 non-null object\n",
      "Vendor Number            270955 non-null int64\n",
      "Item Number              270955 non-null int64\n",
      "Item Description         270955 non-null object\n",
      "Bottle Volume (ml)       270955 non-null int64\n",
      "State Bottle Cost        270955 non-null object\n",
      "State Bottle Retail      270955 non-null object\n",
      "Bottles Sold             270955 non-null int64\n",
      "Sale (Dollars)           270955 non-null object\n",
      "Volume Sold (Liters)     270955 non-null float64\n",
      "Volume Sold (Gallons)    270955 non-null float64\n",
      "dtypes: float64(4), int64(5), object(9)\n",
      "memory usage: 37.2+ MB\n"
     ]
    }
   ],
   "source": [
    "df.info()"
   ]
  },
  {
   "cell_type": "code",
   "execution_count": 5,
   "metadata": {
    "collapsed": false
   },
   "outputs": [
    {
     "data": {
      "text/plain": [
       "Category Name            Bottle Volume (ml)\n",
       "100 PROOF VODKA          100                       2\n",
       "                         200                      42\n",
       "                         375                      54\n",
       "                         500                     451\n",
       "                         600                       9\n",
       "                         750                    1134\n",
       "                         1000                    321\n",
       "                         1750                   1291\n",
       "AMARETTO - IMPORTED      750                       3\n",
       "AMERICAN ALCOHOL         750                     573\n",
       "AMERICAN AMARETTO        600                      18\n",
       "                         750                     756\n",
       "                         1000                    436\n",
       "                         1750                    136\n",
       "AMERICAN COCKTAILS       200                       6\n",
       "                         375                     151\n",
       "                         750                     474\n",
       "                         800                     260\n",
       "                         1000                    482\n",
       "                         1750                   5556\n",
       "AMERICAN DRY GINS        100                     158\n",
       "                         200                     427\n",
       "                         375                     645\n",
       "                         500                     422\n",
       "                         600                      11\n",
       "                         750                    1972\n",
       "                         1000                    877\n",
       "                         1750                   2047\n",
       "AMERICAN GRAPE BRANDIES  100                     202\n",
       "                         200                    1168\n",
       "                                               ...  \n",
       "TROPICAL FRUIT SCHNAPPS  1000                    150\n",
       "VODKA 80 PROOF           100                      12\n",
       "                         200                    1614\n",
       "                         375                    4701\n",
       "                         500                    1271\n",
       "                         600                     121\n",
       "                         750                   11378\n",
       "                         1000                   3703\n",
       "                         1750                  12573\n",
       "VODKA FLAVORED           200                     267\n",
       "                         375                     677\n",
       "                         500                    1149\n",
       "                         600                     122\n",
       "                         750                    9729\n",
       "                         1000                   1078\n",
       "                         1750                    971\n",
       "                         3000                      8\n",
       "WATERMELON SCHNAPPS      750                     189\n",
       "                         1000                    290\n",
       "WHISKEY LIQUEUR          50                        2\n",
       "                         100                     201\n",
       "                         200                     526\n",
       "                         375                    1500\n",
       "                         500                     646\n",
       "                         750                    4069\n",
       "                         1000                   1426\n",
       "                         1750                    989\n",
       "                         3000                   1543\n",
       "WHITE CREME DE CACAO     750                     201\n",
       "WHITE CREME DE MENTHE    750                      61\n",
       "Name: Category Name, dtype: int64"
      ]
     },
     "execution_count": 5,
     "metadata": {},
     "output_type": "execute_result"
    }
   ],
   "source": [
    "# check unique values for category name\n",
    "\n",
    "mygroup = df.groupby([\"Category Name\", 'Bottle Volume (ml)'])['Category Name']\n",
    "\n",
    "mygroup.count()"
   ]
  },
  {
   "cell_type": "code",
   "execution_count": 6,
   "metadata": {
    "collapsed": false
   },
   "outputs": [
    {
     "data": {
      "text/plain": [
       "array([ 750, 1000, 1750,  200,  300,  500,  375, 3000, 2400,  600,  100,\n",
       "       1200,  800, 4800,  150, 2250, 1500,  400, 3600,   50,  850,  950,\n",
       "        603, 2550, 6000, 1125, 4500,  900,  250])"
      ]
     },
     "execution_count": 6,
     "metadata": {},
     "output_type": "execute_result"
    }
   ],
   "source": [
    "# Checking bottle volumes to see if same liquor will have different sizes\n",
    "\n",
    "df[\"Bottle Volume (ml)\"].unique()"
   ]
  },
  {
   "cell_type": "code",
   "execution_count": 7,
   "metadata": {
    "collapsed": false
   },
   "outputs": [
    {
     "data": {
      "text/plain": [
       "Date                        0\n",
       "Store Number                0\n",
       "City                        0\n",
       "Zip Code                    0\n",
       "County Number            1077\n",
       "County                   1077\n",
       "Category                   68\n",
       "Category Name             632\n",
       "Vendor Number               0\n",
       "Item Number                 0\n",
       "Item Description            0\n",
       "Bottle Volume (ml)          0\n",
       "State Bottle Cost           0\n",
       "State Bottle Retail         0\n",
       "Bottles Sold                0\n",
       "Sale (Dollars)              0\n",
       "Volume Sold (Liters)        0\n",
       "Volume Sold (Gallons)       0\n",
       "dtype: int64"
      ]
     },
     "execution_count": 7,
     "metadata": {},
     "output_type": "execute_result"
    }
   ],
   "source": [
    "df.isnull().sum()"
   ]
  },
  {
   "cell_type": "code",
   "execution_count": 8,
   "metadata": {
    "collapsed": false
   },
   "outputs": [],
   "source": [
    "# remove rows where county is null\n",
    "#  remember set dataframe = to dropna in order to \"save\" the change\n",
    "df = df.dropna(subset = [\"County\"])\n",
    "df = df.dropna(subset = [\"Category\"])\n",
    "#df.dropna(subset=['comments'])"
   ]
  },
  {
   "cell_type": "code",
   "execution_count": 9,
   "metadata": {
    "collapsed": false
   },
   "outputs": [
    {
     "data": {
      "text/plain": [
       "Date                       0\n",
       "Store Number               0\n",
       "City                       0\n",
       "Zip Code                   0\n",
       "County Number              0\n",
       "County                     0\n",
       "Category                   0\n",
       "Category Name            552\n",
       "Vendor Number              0\n",
       "Item Number                0\n",
       "Item Description           0\n",
       "Bottle Volume (ml)         0\n",
       "State Bottle Cost          0\n",
       "State Bottle Retail        0\n",
       "Bottles Sold               0\n",
       "Sale (Dollars)             0\n",
       "Volume Sold (Liters)       0\n",
       "Volume Sold (Gallons)      0\n",
       "dtype: int64"
      ]
     },
     "execution_count": 9,
     "metadata": {},
     "output_type": "execute_result"
    }
   ],
   "source": [
    "df.isnull().sum()"
   ]
  },
  {
   "cell_type": "code",
   "execution_count": 10,
   "metadata": {
    "collapsed": false
   },
   "outputs": [
    {
     "data": {
      "text/plain": [
       "Polk             49098\n",
       "Linn             23503\n",
       "Scott            16673\n",
       "Black Hawk       15076\n",
       "Johnson          13185\n",
       "Pottawattamie     9111\n",
       "Story             8959\n",
       "Woodbury          8561\n",
       "Dubuque           7756\n",
       "Cerro Gordo       6373\n",
       "Des Moines        4089\n",
       "Muscatine         3982\n",
       "Clinton           3574\n",
       "Wapello           3529\n",
       "Dickinson         3413\n",
       "Lee               3321\n",
       "Webster           3153\n",
       "Marshall          2995\n",
       "Jasper            2833\n",
       "Buena Vista       2747\n",
       "Dallas            2708\n",
       "Marion            2603\n",
       "Warren            2463\n",
       "Bremer            2242\n",
       "Boone             2110\n",
       "Poweshiek         2089\n",
       "Clay              1917\n",
       "Carroll           1915\n",
       "Jones             1874\n",
       "O'Brien           1720\n",
       "                 ...  \n",
       "Greene             677\n",
       "Wright             672\n",
       "Shelby             662\n",
       "Ida                634\n",
       "Howard             606\n",
       "Humboldt           588\n",
       "Adair              585\n",
       "Grundy             566\n",
       "Pocahontas         525\n",
       "Mills              508\n",
       "Louisa             484\n",
       "Lucas              476\n",
       "Chickasaw          464\n",
       "Guthrie            438\n",
       "Calhoun            424\n",
       "Butler             402\n",
       "Worth              387\n",
       "Hancock            363\n",
       "Monroe             353\n",
       "Osceola            352\n",
       "Keokuk             344\n",
       "Taylor             298\n",
       "Van Buren          245\n",
       "Adams              234\n",
       "Audubon            227\n",
       "Decatur            224\n",
       "Davis              203\n",
       "Ringgold           201\n",
       "Wayne              160\n",
       "Fremont             27\n",
       "Name: County, dtype: int64"
      ]
     },
     "execution_count": 10,
     "metadata": {},
     "output_type": "execute_result"
    }
   ],
   "source": [
    "df[\"County\"].value_counts()"
   ]
  },
  {
   "cell_type": "code",
   "execution_count": 11,
   "metadata": {
    "collapsed": false
   },
   "outputs": [
    {
     "data": {
      "text/plain": [
       "False    269810\n",
       "Name: County, dtype: int64"
      ]
     },
     "execution_count": 11,
     "metadata": {},
     "output_type": "execute_result"
    }
   ],
   "source": [
    "# no dashes in County Column\n",
    "mask = df.County.str.contains(\"-\")\n",
    "mask.value_counts()\n"
   ]
  },
  {
   "cell_type": "code",
   "execution_count": 12,
   "metadata": {
    "collapsed": false
   },
   "outputs": [
    {
     "data": {
      "text/plain": [
       "array(['Bremer', 'Scott', 'Black Hawk', 'Story', 'Wright', 'Linn',\n",
       "       'Wapello', 'Cerro Gordo', 'Polk', 'Benton', 'Mahaska', 'Lee',\n",
       "       'Johnson', 'Jasper', 'Tama', 'Sioux', 'Dickinson', 'Pottawattamie',\n",
       "       'Warren', 'Webster', 'Boone', 'Jackson', 'Carroll', 'Hamilton',\n",
       "       'Woodbury', 'Washington', 'Floyd', 'Delaware', \"O'Brien\",\n",
       "       'Buena Vista', 'Grundy', 'Dubuque', 'Adair', 'Crawford', 'Henry',\n",
       "       'Guthrie', 'Winneshiek', 'Clay', 'Muscatine', 'Taylor', 'Harrison',\n",
       "       'Hardin', 'Kossuth', 'Dallas', 'Decatur', 'Clinton', 'Butler',\n",
       "       'Des Moines', 'Calhoun', 'Fayette', 'Jones', 'Hancock', 'Iowa',\n",
       "       'Howard', 'Appanoose', 'Jefferson', 'Emmet', 'Marshall', 'Page',\n",
       "       'Cedar', 'Clayton', 'Sac', 'Monona', 'Allamakee', 'Winnebago',\n",
       "       'Poweshiek', 'Marion', 'Buchanan', 'Franklin', 'Cherokee',\n",
       "       'Humboldt', 'Greene', 'Keokuk', 'Plymouth', 'Shelby', 'Clarke',\n",
       "       'Palo Alto', 'Cass', 'Lyon', 'Pocahontas', 'Ida', 'Union',\n",
       "       'Fremont', 'Montgomery', 'Louisa', 'Mitchell', 'Mills', 'Madison',\n",
       "       'Davis', 'Lucas', 'Audubon', 'Wayne', 'Osceola', 'Chickasaw',\n",
       "       'Van Buren', 'Worth', 'Monroe', 'Adams', 'Ringgold'], dtype=object)"
      ]
     },
     "execution_count": 12,
     "metadata": {},
     "output_type": "execute_result"
    }
   ],
   "source": [
    "#confirm no dashes\n",
    "df[\"County\"].unique()"
   ]
  },
  {
   "cell_type": "code",
   "execution_count": 13,
   "metadata": {
    "collapsed": false
   },
   "outputs": [
    {
     "data": {
      "text/plain": [
       "count     269810\n",
       "unique        99\n",
       "top         Polk\n",
       "freq       49098\n",
       "Name: County, dtype: object"
      ]
     },
     "execution_count": 13,
     "metadata": {},
     "output_type": "execute_result"
    }
   ],
   "source": [
    "df.County.describe()\n",
    "# 99 unique counties in sample\n",
    "# Polk most common county\n",
    "#99,624 rows after dropping null values"
   ]
  },
  {
   "cell_type": "code",
   "execution_count": 14,
   "metadata": {
    "collapsed": false
   },
   "outputs": [
    {
     "data": {
      "text/plain": [
       "array(['SUMNER', 'DAVENPORT', 'CEDAR FALLS', 'AMES', 'BELMOND',\n",
       "       'CEDAR RAPIDS', 'OTTUMWA', 'CLEAR LAKE', 'BONDURANT', 'SHELLSBURG',\n",
       "       'WEST DES MOINES', 'OSKALOOSA', 'WEST POINT', 'CORALVILLE',\n",
       "       'WATERLOO', 'NEWTON', 'TOLEDO', 'SIOUX CENTER', 'MASON CITY',\n",
       "       'MILFORD', 'IOWA CITY', 'COUNCIL BLUFFS', 'GRIMES', 'KEOKUK',\n",
       "       'INDIANOLA', 'FORT DODGE', 'DES MOINES', 'HUXLEY', 'LA PORTE CITY',\n",
       "       'MARION', 'ANKENY', 'DYSART', 'EAGLE GROVE', 'OGDEN', 'MAQUOKETA',\n",
       "       'CARROLL', 'WEBSTER CITY', 'SIOUX CITY', 'WASHINGTON',\n",
       "       'CHARLES CITY', 'MANCHESTER', 'SHELDON', 'ALTOONA', 'STORM LAKE',\n",
       "       'GRUNDY CENTER', 'SPIRIT LAKE', 'DUBUQUE', 'STUART', 'SCHLESWIG',\n",
       "       'MOUNT PLEASANT', 'GUTHRIE CENTER', 'FORT ATKINSON', 'SPENCER',\n",
       "       'MUSCATINE', 'LENOX', 'MISSOURI VALLEY', 'IOWA FALLS', 'ALGONA',\n",
       "       'WAUKEE', 'LECLAIRE', 'LAMONI', 'CLINTON', 'PARKERSBURG',\n",
       "       'BURLINGTON', 'DUNLAP', 'ORANGE CITY', 'MANNING', 'LOHRVILLE',\n",
       "       'JOHNSTON', 'OELWEIN', 'MONTICELLO', 'BRITT', 'BELLE PLAINE',\n",
       "       'WILLIAMSBURG', 'NEVADA', 'ADEL', 'CRESCO', 'CENTERVILLE',\n",
       "       'FAIRFIELD', 'ESTHERVILLE', 'MARSHALLTOWN', 'WILTON', 'SHENANDOAH',\n",
       "       'STANWOOD', 'CORNING', 'SAC CITY', 'PLEASANT HILL', 'CLIVE',\n",
       "       'EVANSDALE', 'ONAWA', 'TIFFIN', 'DECORAH', 'PERRY', 'WELLMAN',\n",
       "       'WAUKON', 'ELKADER', 'LAKE MILLS', 'TRIPOLI', 'BOONE', 'BAXTER',\n",
       "       'GRINNELL', 'PELLA', 'ANAMOSA', 'NORTH LIBERTY', 'INDEPENDENCE',\n",
       "       'HAMPTON', 'MEDIAPOLIS', 'CHEROKEE', 'HUMBOLDT', 'MONONA',\n",
       "       'JEFFERSON', 'WINDSOR HEIGHTS', 'WEST BURLINGTON', 'URBANDALE',\n",
       "       'OTTUWMA', 'KNOXVILLE', 'BETTENDORF', 'ANTHON', 'SIGOURNEY',\n",
       "       'FOREST CITY', 'LEMARS', 'STORY CITY', 'ROCK VALLEY', 'HARLAN',\n",
       "       'ALDEN', 'CLARKSVILLE', 'OSCEOLA', 'LE CLAIRE', 'MONTEZUMA',\n",
       "       'FAIRFAX', 'MELCHER-DALLAS', 'ARNOLDS PARK', 'DENISON', 'ELDRIDGE',\n",
       "       'EMMETSBURG', 'MAPLETON', 'ATLANTIC', 'KINGSLEY', 'WEST LIBERTY',\n",
       "       'LOGAN', 'LARCHWOOD', 'GARNER', 'MADRID', 'URBANA', 'FORT MADISON',\n",
       "       'DELAWARE', 'MT VERNON', 'ROCK RAPIDS', 'LAURENS', 'CASCADE',\n",
       "       'HOLSTEIN', 'RAYMOND', 'WAVERLY', 'MARENGO', 'TIPTON', 'CRESTON',\n",
       "       'SERGEANT BLUFF', 'HAMBURG', 'RED OAK', 'MT PLEASANT', 'DOWS',\n",
       "       'COLUMBUS JUNCTION', 'CONRAD', 'EDDYVILLE', 'FONTANELLE',\n",
       "       'PRAIRIE CITY', 'WEST BRANCH', 'SANBORN', 'OSAGE', 'DENVER',\n",
       "       'ELDORA', 'PACIFIC JUNCTION', 'WINTERSET', 'POLK CITY',\n",
       "       'MOUNT VERNON', 'CLARINDA', 'GEORGE', 'HAWARDEN', 'ELMA',\n",
       "       'BLOOMFIELD', 'CHARITON', 'BROOKLYN', 'JESUP', 'MONROE', 'SOLON',\n",
       "       'BELLEVUE', 'OAKLAND', 'LAKE CITY', 'DURANT', 'STRAWBERRY POINT',\n",
       "       'GREENFIELD', 'POCAHONTAS', 'WAPELLO', 'CAMBRIDGE', 'DYERSVILLE',\n",
       "       'IDA GROVE', 'ELLSWORTH', 'GUTTENBURG', 'EXIRA', 'CORYDON',\n",
       "       'ST ANSGAR', 'NORWALK', 'PRIMGHAR', 'LANSING', 'LE GRAND',\n",
       "       'LAKE PARK', 'NEW SHARON', 'ACKLEY', 'VINTON', 'SUTHERLAND',\n",
       "       'STRATFORD', 'LE MARS', 'WESLEY', 'AVOCA', 'GRANGER',\n",
       "       \"ARNOLD'S PARK\", 'SIBLEY', 'NEW HAMPTON', 'FARMINGTON',\n",
       "       'WEST UNION', 'NORTHWOOD', 'CARTER LAKE', 'ALBIA', 'BUFFALO CENTER',\n",
       "       'BLUE GRASS', 'BANCROFT', 'GREENE', 'WALNUT', 'DELMAR', 'MALVERN',\n",
       "       'HIAWATHA', 'GRAND JUNCTION', 'GLENWOOD', 'COLFAX', 'PEOSTA',\n",
       "       'FLOYD', 'DUMONT', 'COON RAPIDS', 'PANORA', 'MONTROSE',\n",
       "       'SIOUX RAPIDS', 'CLARION', 'RIVERSIDE', 'BEVINGTON', 'LISBON',\n",
       "       'FREDERICKSBURG', 'KEOTA', 'DE SOTO', 'FAIRBANK', 'KEOSAUQUA',\n",
       "       'HARTLEY', 'PLEASANTVILLE', 'CENTER POINT', 'MANSON', 'DANVILLE',\n",
       "       'WEST BEND', 'ELY', 'KELLOGG', 'OKOBOJI', 'Dubuque', 'DAKOTA CITY',\n",
       "       'POSTVILLE', 'LAWLER', 'GUTTENBERG', 'HARPERS FERRY', 'Northwood',\n",
       "       'SWISHER', 'LAKE VIEW', 'PAULLINA', 'EDGEWOOD', 'CENTRAL CITY',\n",
       "       'AKRON', 'ALLISON', 'LEON', 'AFTON', 'VICTOR', 'INWOOD',\n",
       "       'SHEFFIELD', 'GOWRIE', 'GLIDDEN', 'HUDSON', 'GRAND MOUND',\n",
       "       'GILMORE CITY', 'TRAER', 'BEDFORD', 'FAYETTE', 'ELDON', 'WOODWARD',\n",
       "       'NASHUA', 'NEOLA', 'GRAETTINGER', 'STATE CENTER', 'SLOAN',\n",
       "       'ROCKWELL', 'PRINCETON', 'SCRANTON', 'ZWINGLE', 'ADAIR', 'CAMANCHE',\n",
       "       'ROLFE', 'WOODBINE', 'SLATER', 'MOUNT AYR', 'AUDUBON', 'VILLISCA',\n",
       "       'LOVILIA', 'EARLY', 'HUBBARD', 'CARLISLE', 'BUFFALO', 'ANITA',\n",
       "       'WINTHROP', 'DONNELLSON', 'HOLY CROSS', 'Urbandale', 'PALO',\n",
       "       'IRETON', 'HAZLETON', 'CRESCENT', 'ROCKWELL CITY', 'REMSEN',\n",
       "       'Des Moines', 'ARLINGTON', 'MECHANICSVILLE', 'DEWITT', 'REINBECK',\n",
       "       'RUTHVEN', 'SULLY', 'SPRINGVILLE', 'GLADBROOK', 'LOST NATION',\n",
       "       'EVERLY', 'NORA SPRINGS', 'COLO', 'ST CHARLES', 'DAYTON', 'BALDWIN',\n",
       "       'SWEA CITY', 'MAXWELL', 'CASEY', 'EARLHAM', 'BUSSEY', 'VAN METER',\n",
       "       'Inwood', 'WELLSBURG', 'NORTH ENGLISH', 'MORAVIA', 'KELLOG',\n",
       "       'RICEVILLE', 'MARCUS', 'JEWELL', 'HOSPERS', 'WALL LAKE', 'FARLEY',\n",
       "       'TREYNOR', 'DELHI', 'NEW VIRGINIA', 'MARTENSDALE', 'HUMESTON',\n",
       "       'WHEATLAND', 'ST LUCAS', 'MANLY', 'SCHALLER', 'LATIMER', 'WASHBURN',\n",
       "       'Cumming', 'GILBERTVILLE', 'WALFORD', 'WALKER', 'OTHO', 'ALTA',\n",
       "       'ARMSTRONG', 'MINDEN', 'FONDA', 'AURELIA', 'CORWITH', 'ROBINS',\n",
       "       'GOLDFIELD', 'GRISWOLD', 'MERRILL', 'MELBOURNE', 'Carroll'], dtype=object)"
      ]
     },
     "execution_count": 14,
     "metadata": {},
     "output_type": "execute_result"
    }
   ],
   "source": [
    "df.City.unique()"
   ]
  },
  {
   "cell_type": "code",
   "execution_count": 15,
   "metadata": {
    "collapsed": false
   },
   "outputs": [
    {
     "data": {
      "text/plain": [
       "count         269810\n",
       "unique           382\n",
       "top       DES MOINES\n",
       "freq           23710\n",
       "Name: City, dtype: object"
      ]
     },
     "execution_count": 15,
     "metadata": {},
     "output_type": "execute_result"
    }
   ],
   "source": [
    "df.City.describe()\n",
    "#380 unique cities in sample\n",
    "# top city is Des Monies"
   ]
  },
  {
   "cell_type": "code",
   "execution_count": 16,
   "metadata": {
    "collapsed": false
   },
   "outputs": [
    {
     "name": "stderr",
     "output_type": "stream",
     "text": [
      "/anaconda/lib/python2.7/site-packages/ipykernel/__main__.py:3: FutureWarning: the coerce=True keyword is deprecated, use errors='coerce' instead\n",
      "  app.launch_new_instance()\n"
     ]
    }
   ],
   "source": [
    "#convert date column to datetime type\n",
    "\n",
    "df['Date'] = pd.to_datetime(df['Date'], coerce = True)"
   ]
  },
  {
   "cell_type": "code",
   "execution_count": 17,
   "metadata": {
    "collapsed": false
   },
   "outputs": [
    {
     "data": {
      "text/plain": [
       "array(['2015-11-03T16:00:00.000000000-0800',\n",
       "       '2016-03-01T16:00:00.000000000-0800',\n",
       "       '2016-02-10T16:00:00.000000000-0800',\n",
       "       '2016-02-02T16:00:00.000000000-0800',\n",
       "       '2015-08-17T17:00:00.000000000-0700',\n",
       "       '2015-04-19T17:00:00.000000000-0700',\n",
       "       '2015-08-04T17:00:00.000000000-0700',\n",
       "       '2015-06-24T17:00:00.000000000-0700',\n",
       "       '2016-01-03T16:00:00.000000000-0800',\n",
       "       '2015-11-09T16:00:00.000000000-0800',\n",
       "       '2015-09-27T17:00:00.000000000-0700',\n",
       "       '2015-10-27T17:00:00.000000000-0700',\n",
       "       '2015-01-21T16:00:00.000000000-0800',\n",
       "       '2016-02-28T16:00:00.000000000-0800',\n",
       "       '2015-06-09T17:00:00.000000000-0700',\n",
       "       '2016-02-24T16:00:00.000000000-0800',\n",
       "       '2015-12-28T16:00:00.000000000-0800',\n",
       "       '2015-12-25T16:00:00.000000000-0800',\n",
       "       '2015-03-03T16:00:00.000000000-0800',\n",
       "       '2015-01-15T16:00:00.000000000-0800',\n",
       "       '2015-01-12T16:00:00.000000000-0800',\n",
       "       '2015-03-23T17:00:00.000000000-0700',\n",
       "       '2015-11-11T16:00:00.000000000-0800',\n",
       "       '2016-03-13T17:00:00.000000000-0700',\n",
       "       '2015-02-02T16:00:00.000000000-0800',\n",
       "       '2015-11-22T16:00:00.000000000-0800',\n",
       "       '2015-04-20T17:00:00.000000000-0700',\n",
       "       '2015-11-30T16:00:00.000000000-0800',\n",
       "       '2015-01-13T16:00:00.000000000-0800',\n",
       "       '2015-03-31T17:00:00.000000000-0700',\n",
       "       '2015-01-11T16:00:00.000000000-0800',\n",
       "       '2015-06-28T17:00:00.000000000-0700',\n",
       "       '2015-04-01T17:00:00.000000000-0700',\n",
       "       '2015-06-02T17:00:00.000000000-0700',\n",
       "       '2016-01-26T16:00:00.000000000-0800',\n",
       "       '2016-03-06T16:00:00.000000000-0800',\n",
       "       '2015-03-30T17:00:00.000000000-0700',\n",
       "       '2015-02-22T16:00:00.000000000-0800',\n",
       "       '2015-10-20T17:00:00.000000000-0700',\n",
       "       '2016-01-27T16:00:00.000000000-0800',\n",
       "       '2015-04-13T17:00:00.000000000-0700',\n",
       "       '2015-08-05T17:00:00.000000000-0700',\n",
       "       '2015-01-25T16:00:00.000000000-0800',\n",
       "       '2015-06-10T17:00:00.000000000-0700',\n",
       "       '2015-04-27T17:00:00.000000000-0700',\n",
       "       '2015-01-27T16:00:00.000000000-0800',\n",
       "       '2015-07-27T17:00:00.000000000-0700',\n",
       "       '2015-03-09T17:00:00.000000000-0700',\n",
       "       '2015-05-31T17:00:00.000000000-0700',\n",
       "       '2016-02-22T16:00:00.000000000-0800',\n",
       "       '2015-09-15T17:00:00.000000000-0700',\n",
       "       '2015-07-08T17:00:00.000000000-0700',\n",
       "       '2016-03-22T17:00:00.000000000-0700',\n",
       "       '2015-11-29T16:00:00.000000000-0800',\n",
       "       '2015-04-06T17:00:00.000000000-0700',\n",
       "       '2015-03-15T17:00:00.000000000-0700',\n",
       "       '2015-11-23T16:00:00.000000000-0800',\n",
       "       '2015-08-23T17:00:00.000000000-0700',\n",
       "       '2015-11-10T16:00:00.000000000-0800',\n",
       "       '2015-12-08T16:00:00.000000000-0800',\n",
       "       '2016-03-28T17:00:00.000000000-0700',\n",
       "       '2015-03-18T17:00:00.000000000-0700',\n",
       "       '2015-10-25T17:00:00.000000000-0700',\n",
       "       '2015-12-15T16:00:00.000000000-0800',\n",
       "       '2015-07-29T17:00:00.000000000-0700',\n",
       "       '2015-06-21T17:00:00.000000000-0700',\n",
       "       '2015-06-22T17:00:00.000000000-0700',\n",
       "       '2015-11-08T16:00:00.000000000-0800',\n",
       "       '2015-06-08T17:00:00.000000000-0700',\n",
       "       '2015-04-05T17:00:00.000000000-0700',\n",
       "       '2015-07-19T17:00:00.000000000-0700',\n",
       "       '2015-07-05T17:00:00.000000000-0700',\n",
       "       '2015-03-22T17:00:00.000000000-0700',\n",
       "       '2015-08-16T17:00:00.000000000-0700',\n",
       "       '2015-05-26T17:00:00.000000000-0700',\n",
       "       '2015-03-24T17:00:00.000000000-0700',\n",
       "       '2015-06-25T17:00:00.000000000-0700',\n",
       "       '2015-10-18T17:00:00.000000000-0700',\n",
       "       '2015-08-25T17:00:00.000000000-0700',\n",
       "       '2015-07-20T17:00:00.000000000-0700',\n",
       "       '2015-06-07T17:00:00.000000000-0700',\n",
       "       '2015-01-19T16:00:00.000000000-0800',\n",
       "       '2015-12-29T16:00:00.000000000-0800',\n",
       "       '2015-03-04T16:00:00.000000000-0800',\n",
       "       '2015-10-28T17:00:00.000000000-0700',\n",
       "       '2015-01-14T16:00:00.000000000-0800',\n",
       "       '2015-02-04T16:00:00.000000000-0800',\n",
       "       '2015-09-23T17:00:00.000000000-0700',\n",
       "       '2015-06-17T17:00:00.000000000-0700',\n",
       "       '2015-12-21T16:00:00.000000000-0800',\n",
       "       '2015-08-03T17:00:00.000000000-0700',\n",
       "       '2015-11-01T16:00:00.000000000-0800',\n",
       "       '2015-06-29T17:00:00.000000000-0700',\n",
       "       '2015-04-26T17:00:00.000000000-0700',\n",
       "       '2016-02-01T16:00:00.000000000-0800',\n",
       "       '2015-12-16T16:00:00.000000000-0800',\n",
       "       '2015-05-12T17:00:00.000000000-0700',\n",
       "       '2015-07-13T17:00:00.000000000-0700',\n",
       "       '2016-02-08T16:00:00.000000000-0800',\n",
       "       '2015-08-19T17:00:00.000000000-0700',\n",
       "       '2015-03-10T17:00:00.000000000-0700',\n",
       "       '2015-07-12T17:00:00.000000000-0700',\n",
       "       '2015-02-01T16:00:00.000000000-0800',\n",
       "       '2015-05-18T17:00:00.000000000-0700',\n",
       "       '2015-12-13T16:00:00.000000000-0800',\n",
       "       '2015-10-14T17:00:00.000000000-0700',\n",
       "       '2016-02-17T16:00:00.000000000-0800',\n",
       "       '2016-01-25T16:00:00.000000000-0800',\n",
       "       '2015-12-22T16:00:00.000000000-0800',\n",
       "       '2015-04-21T17:00:00.000000000-0700',\n",
       "       '2015-05-20T17:00:00.000000000-0700',\n",
       "       '2016-03-09T16:00:00.000000000-0800',\n",
       "       '2015-11-17T16:00:00.000000000-0800',\n",
       "       '2016-03-02T16:00:00.000000000-0800',\n",
       "       '2015-01-07T16:00:00.000000000-0800',\n",
       "       '2015-12-27T16:00:00.000000000-0800',\n",
       "       '2015-09-09T17:00:00.000000000-0700',\n",
       "       '2015-09-07T17:00:00.000000000-0700',\n",
       "       '2015-08-31T17:00:00.000000000-0700',\n",
       "       '2015-12-17T16:00:00.000000000-0800',\n",
       "       '2016-01-12T16:00:00.000000000-0800',\n",
       "       '2015-11-16T16:00:00.000000000-0800',\n",
       "       '2015-03-25T17:00:00.000000000-0700',\n",
       "       '2016-01-19T16:00:00.000000000-0800',\n",
       "       '2015-06-30T17:00:00.000000000-0700',\n",
       "       '2015-09-08T17:00:00.000000000-0700',\n",
       "       '2015-03-08T17:00:00.000000000-0700',\n",
       "       '2015-07-28T17:00:00.000000000-0700',\n",
       "       '2016-02-29T16:00:00.000000000-0800',\n",
       "       '2015-04-28T17:00:00.000000000-0700',\n",
       "       '2016-03-07T16:00:00.000000000-0800',\n",
       "       '2015-01-20T16:00:00.000000000-0800',\n",
       "       '2015-07-07T17:00:00.000000000-0700',\n",
       "       '2015-05-06T17:00:00.000000000-0700',\n",
       "       '2015-06-16T17:00:00.000000000-0700',\n",
       "       '2015-04-07T17:00:00.000000000-0700',\n",
       "       '2015-05-21T17:00:00.000000000-0700',\n",
       "       '2016-02-03T16:00:00.000000000-0800',\n",
       "       '2016-03-15T17:00:00.000000000-0700',\n",
       "       '2015-01-28T16:00:00.000000000-0800',\n",
       "       '2016-01-06T16:00:00.000000000-0800',\n",
       "       '2016-03-29T17:00:00.000000000-0700',\n",
       "       '2016-02-23T16:00:00.000000000-0800',\n",
       "       '2015-08-11T17:00:00.000000000-0700',\n",
       "       '2016-01-11T16:00:00.000000000-0800',\n",
       "       '2015-04-29T17:00:00.000000000-0700',\n",
       "       '2016-01-18T16:00:00.000000000-0800',\n",
       "       '2015-02-16T16:00:00.000000000-0800',\n",
       "       '2015-10-06T17:00:00.000000000-0700',\n",
       "       '2015-06-23T17:00:00.000000000-0700',\n",
       "       '2015-01-26T16:00:00.000000000-0800',\n",
       "       '2015-06-01T17:00:00.000000000-0700',\n",
       "       '2015-09-03T17:00:00.000000000-0700',\n",
       "       '2016-01-31T16:00:00.000000000-0800',\n",
       "       '2015-07-06T17:00:00.000000000-0700',\n",
       "       '2015-07-26T17:00:00.000000000-0700',\n",
       "       '2016-02-16T16:00:00.000000000-0800',\n",
       "       '2015-03-01T16:00:00.000000000-0800',\n",
       "       '2015-08-09T17:00:00.000000000-0700',\n",
       "       '2015-08-30T17:00:00.000000000-0700',\n",
       "       '2015-10-04T17:00:00.000000000-0700',\n",
       "       '2015-02-24T16:00:00.000000000-0800',\n",
       "       '2015-02-08T16:00:00.000000000-0800',\n",
       "       '2015-05-27T17:00:00.000000000-0700',\n",
       "       '2015-09-30T17:00:00.000000000-0700',\n",
       "       '2015-01-04T16:00:00.000000000-0800',\n",
       "       '2015-12-09T16:00:00.000000000-0800',\n",
       "       '2015-10-26T17:00:00.000000000-0700',\n",
       "       '2015-02-10T16:00:00.000000000-0800',\n",
       "       '2015-05-05T17:00:00.000000000-0700',\n",
       "       '2015-01-06T16:00:00.000000000-0800',\n",
       "       '2016-02-09T16:00:00.000000000-0800',\n",
       "       '2016-01-04T16:00:00.000000000-0800',\n",
       "       '2015-05-17T17:00:00.000000000-0700',\n",
       "       '2015-05-10T17:00:00.000000000-0700',\n",
       "       '2015-02-11T16:00:00.000000000-0800',\n",
       "       '2015-03-17T17:00:00.000000000-0700',\n",
       "       '2015-05-19T17:00:00.000000000-0700',\n",
       "       '2015-02-03T16:00:00.000000000-0800',\n",
       "       '2015-02-25T16:00:00.000000000-0800',\n",
       "       '2016-03-30T17:00:00.000000000-0700',\n",
       "       '2015-08-18T17:00:00.000000000-0700',\n",
       "       '2016-03-16T17:00:00.000000000-0700',\n",
       "       '2016-01-05T16:00:00.000000000-0800',\n",
       "       '2016-02-21T16:00:00.000000000-0800',\n",
       "       '2015-09-21T17:00:00.000000000-0700',\n",
       "       '2016-03-08T16:00:00.000000000-0800',\n",
       "       '2015-12-01T16:00:00.000000000-0800',\n",
       "       '2015-04-08T17:00:00.000000000-0700',\n",
       "       '2015-11-18T16:00:00.000000000-0800',\n",
       "       '2015-05-13T17:00:00.000000000-0700',\n",
       "       '2016-03-14T17:00:00.000000000-0700',\n",
       "       '2015-05-04T17:00:00.000000000-0700',\n",
       "       '2015-04-15T17:00:00.000000000-0700',\n",
       "       '2015-03-29T17:00:00.000000000-0700',\n",
       "       '2015-09-22T17:00:00.000000000-0700',\n",
       "       '2015-08-02T17:00:00.000000000-0700',\n",
       "       '2015-12-06T16:00:00.000000000-0800',\n",
       "       '2016-02-14T16:00:00.000000000-0800',\n",
       "       '2015-09-01T17:00:00.000000000-0700',\n",
       "       '2015-11-19T16:00:00.000000000-0800',\n",
       "       '2015-02-17T16:00:00.000000000-0800',\n",
       "       '2016-01-14T16:00:00.000000000-0800',\n",
       "       '2015-01-05T16:00:00.000000000-0800',\n",
       "       '2015-09-20T17:00:00.000000000-0700',\n",
       "       '2015-08-24T17:00:00.000000000-0700',\n",
       "       '2016-03-21T17:00:00.000000000-0700',\n",
       "       '2015-04-14T17:00:00.000000000-0700',\n",
       "       '2015-02-23T16:00:00.000000000-0800',\n",
       "       '2015-11-04T16:00:00.000000000-0800',\n",
       "       '2015-10-05T17:00:00.000000000-0700',\n",
       "       '2015-12-07T16:00:00.000000000-0800',\n",
       "       '2015-12-14T16:00:00.000000000-0800',\n",
       "       '2015-11-02T16:00:00.000000000-0800',\n",
       "       '2015-10-13T17:00:00.000000000-0700',\n",
       "       '2015-02-18T16:00:00.000000000-0800',\n",
       "       '2016-03-23T17:00:00.000000000-0700',\n",
       "       '2016-01-10T16:00:00.000000000-0800',\n",
       "       '2015-08-10T17:00:00.000000000-0700',\n",
       "       '2015-12-02T16:00:00.000000000-0800',\n",
       "       '2015-06-14T17:00:00.000000000-0700',\n",
       "       '2015-09-29T17:00:00.000000000-0700',\n",
       "       '2015-02-15T16:00:00.000000000-0800',\n",
       "       '2015-08-26T17:00:00.000000000-0700',\n",
       "       '2015-10-19T17:00:00.000000000-0700',\n",
       "       '2015-03-16T17:00:00.000000000-0700',\n",
       "       '2016-03-20T17:00:00.000000000-0700',\n",
       "       '2015-11-15T16:00:00.000000000-0800',\n",
       "       '2015-10-11T17:00:00.000000000-0700',\n",
       "       '2015-06-03T17:00:00.000000000-0700',\n",
       "       '2015-04-12T17:00:00.000000000-0700',\n",
       "       '2015-09-14T17:00:00.000000000-0700',\n",
       "       '2015-07-21T17:00:00.000000000-0700',\n",
       "       '2015-09-13T17:00:00.000000000-0700',\n",
       "       '2015-07-14T17:00:00.000000000-0700',\n",
       "       '2016-03-27T17:00:00.000000000-0700',\n",
       "       '2015-11-20T16:00:00.000000000-0800',\n",
       "       '2016-02-15T16:00:00.000000000-0800',\n",
       "       '2015-09-16T17:00:00.000000000-0700',\n",
       "       '2015-10-12T17:00:00.000000000-0700',\n",
       "       '2015-03-02T16:00:00.000000000-0800',\n",
       "       '2015-05-25T17:00:00.000000000-0700',\n",
       "       '2016-02-07T16:00:00.000000000-0800',\n",
       "       '2015-05-03T17:00:00.000000000-0700',\n",
       "       '2015-07-15T17:00:00.000000000-0700',\n",
       "       '2016-01-13T16:00:00.000000000-0800',\n",
       "       '2015-02-09T16:00:00.000000000-0800',\n",
       "       '2015-09-28T17:00:00.000000000-0700',\n",
       "       '2015-09-02T17:00:00.000000000-0700',\n",
       "       '2015-07-22T17:00:00.000000000-0700',\n",
       "       '2015-06-15T17:00:00.000000000-0700',\n",
       "       '2016-01-20T16:00:00.000000000-0800',\n",
       "       '2015-12-20T16:00:00.000000000-0800',\n",
       "       '2015-03-11T17:00:00.000000000-0700',\n",
       "       '2015-10-21T17:00:00.000000000-0700',\n",
       "       '2015-05-11T17:00:00.000000000-0700',\n",
       "       '2015-10-07T17:00:00.000000000-0700',\n",
       "       '2016-01-24T16:00:00.000000000-0800',\n",
       "       '2015-08-12T17:00:00.000000000-0700',\n",
       "       '2015-04-22T17:00:00.000000000-0700',\n",
       "       '2015-11-24T16:00:00.000000000-0800',\n",
       "       '2015-12-23T16:00:00.000000000-0800',\n",
       "       '2015-07-01T17:00:00.000000000-0700',\n",
       "       '2015-12-03T16:00:00.000000000-0800',\n",
       "       '2015-09-24T17:00:00.000000000-0700',\n",
       "       '2015-12-30T16:00:00.000000000-0800',\n",
       "       '2015-09-17T17:00:00.000000000-0700',\n",
       "       '2015-10-01T17:00:00.000000000-0700',\n",
       "       '2015-03-05T16:00:00.000000000-0800',\n",
       "       '2015-08-06T17:00:00.000000000-0700',\n",
       "       '2015-01-22T16:00:00.000000000-0800',\n",
       "       '2015-06-11T17:00:00.000000000-0700',\n",
       "       '2016-03-03T16:00:00.000000000-0800',\n",
       "       '2015-06-04T17:00:00.000000000-0700'], dtype='datetime64[ns]')"
      ]
     },
     "execution_count": 17,
     "metadata": {},
     "output_type": "execute_result"
    }
   ],
   "source": [
    "df.Date.unique()"
   ]
  },
  {
   "cell_type": "code",
   "execution_count": 18,
   "metadata": {
    "collapsed": false
   },
   "outputs": [
    {
     "data": {
      "text/plain": [
       "Date                     datetime64[ns]\n",
       "Store Number                      int64\n",
       "City                             object\n",
       "Zip Code                         object\n",
       "County Number                   float64\n",
       "County                           object\n",
       "Category                        float64\n",
       "Category Name                    object\n",
       "Vendor Number                     int64\n",
       "Item Number                       int64\n",
       "Item Description                 object\n",
       "Bottle Volume (ml)                int64\n",
       "State Bottle Cost                object\n",
       "State Bottle Retail              object\n",
       "Bottles Sold                      int64\n",
       "Sale (Dollars)                   object\n",
       "Volume Sold (Liters)            float64\n",
       "Volume Sold (Gallons)           float64\n",
       "dtype: object"
      ]
     },
     "execution_count": 18,
     "metadata": {},
     "output_type": "execute_result"
    }
   ],
   "source": [
    "df.dtypes"
   ]
  },
  {
   "cell_type": "code",
   "execution_count": 19,
   "metadata": {
    "collapsed": false
   },
   "outputs": [],
   "source": [
    "#add year column\n",
    "df[\"year\"] = df[\"Date\"].dt.year\n",
    "\n"
   ]
  },
  {
   "cell_type": "code",
   "execution_count": 20,
   "metadata": {
    "collapsed": false
   },
   "outputs": [],
   "source": [
    "df[\"month\"] = df[\"Date\"].dt.month"
   ]
  },
  {
   "cell_type": "code",
   "execution_count": 21,
   "metadata": {
    "collapsed": false
   },
   "outputs": [
    {
     "data": {
      "text/html": [
       "<div>\n",
       "<table border=\"1\" class=\"dataframe\">\n",
       "  <thead>\n",
       "    <tr style=\"text-align: right;\">\n",
       "      <th></th>\n",
       "      <th>Date</th>\n",
       "      <th>Store Number</th>\n",
       "      <th>City</th>\n",
       "      <th>Zip Code</th>\n",
       "      <th>County Number</th>\n",
       "      <th>County</th>\n",
       "      <th>Category</th>\n",
       "      <th>Category Name</th>\n",
       "      <th>Vendor Number</th>\n",
       "      <th>Item Number</th>\n",
       "      <th>Item Description</th>\n",
       "      <th>Bottle Volume (ml)</th>\n",
       "      <th>State Bottle Cost</th>\n",
       "      <th>State Bottle Retail</th>\n",
       "      <th>Bottles Sold</th>\n",
       "      <th>Sale (Dollars)</th>\n",
       "      <th>Volume Sold (Liters)</th>\n",
       "      <th>Volume Sold (Gallons)</th>\n",
       "      <th>year</th>\n",
       "      <th>month</th>\n",
       "    </tr>\n",
       "  </thead>\n",
       "  <tbody>\n",
       "    <tr>\n",
       "      <th>0</th>\n",
       "      <td>2015-11-04</td>\n",
       "      <td>3717</td>\n",
       "      <td>SUMNER</td>\n",
       "      <td>50674</td>\n",
       "      <td>9.0</td>\n",
       "      <td>Bremer</td>\n",
       "      <td>1051100.0</td>\n",
       "      <td>APRICOT BRANDIES</td>\n",
       "      <td>55</td>\n",
       "      <td>54436</td>\n",
       "      <td>Mr. Boston Apricot Brandy</td>\n",
       "      <td>750</td>\n",
       "      <td>$4.50</td>\n",
       "      <td>$6.75</td>\n",
       "      <td>12</td>\n",
       "      <td>$81.00</td>\n",
       "      <td>9.0</td>\n",
       "      <td>2.38</td>\n",
       "      <td>2015</td>\n",
       "      <td>11</td>\n",
       "    </tr>\n",
       "    <tr>\n",
       "      <th>1</th>\n",
       "      <td>2016-03-02</td>\n",
       "      <td>2614</td>\n",
       "      <td>DAVENPORT</td>\n",
       "      <td>52807</td>\n",
       "      <td>82.0</td>\n",
       "      <td>Scott</td>\n",
       "      <td>1011100.0</td>\n",
       "      <td>BLENDED WHISKIES</td>\n",
       "      <td>395</td>\n",
       "      <td>27605</td>\n",
       "      <td>Tin Cup</td>\n",
       "      <td>750</td>\n",
       "      <td>$13.75</td>\n",
       "      <td>$20.63</td>\n",
       "      <td>2</td>\n",
       "      <td>$41.26</td>\n",
       "      <td>1.5</td>\n",
       "      <td>0.40</td>\n",
       "      <td>2016</td>\n",
       "      <td>3</td>\n",
       "    </tr>\n",
       "    <tr>\n",
       "      <th>2</th>\n",
       "      <td>2016-02-11</td>\n",
       "      <td>2106</td>\n",
       "      <td>CEDAR FALLS</td>\n",
       "      <td>50613</td>\n",
       "      <td>7.0</td>\n",
       "      <td>Black Hawk</td>\n",
       "      <td>1011200.0</td>\n",
       "      <td>STRAIGHT BOURBON WHISKIES</td>\n",
       "      <td>65</td>\n",
       "      <td>19067</td>\n",
       "      <td>Jim Beam</td>\n",
       "      <td>1000</td>\n",
       "      <td>$12.59</td>\n",
       "      <td>$18.89</td>\n",
       "      <td>24</td>\n",
       "      <td>$453.36</td>\n",
       "      <td>24.0</td>\n",
       "      <td>6.34</td>\n",
       "      <td>2016</td>\n",
       "      <td>2</td>\n",
       "    </tr>\n",
       "    <tr>\n",
       "      <th>3</th>\n",
       "      <td>2016-02-03</td>\n",
       "      <td>2501</td>\n",
       "      <td>AMES</td>\n",
       "      <td>50010</td>\n",
       "      <td>85.0</td>\n",
       "      <td>Story</td>\n",
       "      <td>1071100.0</td>\n",
       "      <td>AMERICAN COCKTAILS</td>\n",
       "      <td>395</td>\n",
       "      <td>59154</td>\n",
       "      <td>1800 Ultimate Margarita</td>\n",
       "      <td>1750</td>\n",
       "      <td>$9.50</td>\n",
       "      <td>$14.25</td>\n",
       "      <td>6</td>\n",
       "      <td>$85.50</td>\n",
       "      <td>10.5</td>\n",
       "      <td>2.77</td>\n",
       "      <td>2016</td>\n",
       "      <td>2</td>\n",
       "    </tr>\n",
       "    <tr>\n",
       "      <th>4</th>\n",
       "      <td>2015-08-18</td>\n",
       "      <td>3654</td>\n",
       "      <td>BELMOND</td>\n",
       "      <td>50421</td>\n",
       "      <td>99.0</td>\n",
       "      <td>Wright</td>\n",
       "      <td>1031080.0</td>\n",
       "      <td>VODKA 80 PROOF</td>\n",
       "      <td>297</td>\n",
       "      <td>35918</td>\n",
       "      <td>Five O'clock Vodka</td>\n",
       "      <td>1750</td>\n",
       "      <td>$7.20</td>\n",
       "      <td>$10.80</td>\n",
       "      <td>12</td>\n",
       "      <td>$129.60</td>\n",
       "      <td>21.0</td>\n",
       "      <td>5.55</td>\n",
       "      <td>2015</td>\n",
       "      <td>8</td>\n",
       "    </tr>\n",
       "  </tbody>\n",
       "</table>\n",
       "</div>"
      ],
      "text/plain": [
       "        Date  Store Number         City Zip Code  County Number      County  \\\n",
       "0 2015-11-04          3717       SUMNER    50674            9.0      Bremer   \n",
       "1 2016-03-02          2614    DAVENPORT    52807           82.0       Scott   \n",
       "2 2016-02-11          2106  CEDAR FALLS    50613            7.0  Black Hawk   \n",
       "3 2016-02-03          2501         AMES    50010           85.0       Story   \n",
       "4 2015-08-18          3654      BELMOND    50421           99.0      Wright   \n",
       "\n",
       "    Category              Category Name  Vendor Number  Item Number  \\\n",
       "0  1051100.0           APRICOT BRANDIES             55        54436   \n",
       "1  1011100.0           BLENDED WHISKIES            395        27605   \n",
       "2  1011200.0  STRAIGHT BOURBON WHISKIES             65        19067   \n",
       "3  1071100.0         AMERICAN COCKTAILS            395        59154   \n",
       "4  1031080.0             VODKA 80 PROOF            297        35918   \n",
       "\n",
       "            Item Description  Bottle Volume (ml) State Bottle Cost  \\\n",
       "0  Mr. Boston Apricot Brandy                 750             $4.50   \n",
       "1                    Tin Cup                 750            $13.75   \n",
       "2                   Jim Beam                1000            $12.59   \n",
       "3    1800 Ultimate Margarita                1750             $9.50   \n",
       "4         Five O'clock Vodka                1750             $7.20   \n",
       "\n",
       "  State Bottle Retail  Bottles Sold Sale (Dollars)  Volume Sold (Liters)  \\\n",
       "0               $6.75            12         $81.00                   9.0   \n",
       "1              $20.63             2         $41.26                   1.5   \n",
       "2              $18.89            24        $453.36                  24.0   \n",
       "3              $14.25             6         $85.50                  10.5   \n",
       "4              $10.80            12        $129.60                  21.0   \n",
       "\n",
       "   Volume Sold (Gallons)  year  month  \n",
       "0                   2.38  2015     11  \n",
       "1                   0.40  2016      3  \n",
       "2                   6.34  2016      2  \n",
       "3                   2.77  2016      2  \n",
       "4                   5.55  2015      8  "
      ]
     },
     "execution_count": 21,
     "metadata": {},
     "output_type": "execute_result"
    }
   ],
   "source": [
    "df.head()"
   ]
  },
  {
   "cell_type": "code",
   "execution_count": 22,
   "metadata": {
    "collapsed": false
   },
   "outputs": [
    {
     "data": {
      "text/plain": [
       "(269810, 20)"
      ]
     },
     "execution_count": 22,
     "metadata": {},
     "output_type": "execute_result"
    }
   ],
   "source": [
    "df.shape"
   ]
  },
  {
   "cell_type": "code",
   "execution_count": 23,
   "metadata": {
    "collapsed": false
   },
   "outputs": [],
   "source": [
    "# State Bottle Retail remove $ and convert to float\n",
    "\n",
    "#remove dollar sign\n",
    "df[\"State Bottle Retail\"] = df[\"State Bottle Retail\"].replace(\"\\$\", \"\", regex = True) \n",
    "\n",
    "#convert to float\n",
    "df[\"State Bottle Retail\"] = df[\"State Bottle Retail\"].astype(float)\n",
    "\n",
    "df[\"State Bottle Cost\"] = df[\"State Bottle Cost\"].replace(\"\\$\", \"\", regex = True) \n",
    "\n",
    "#convert to float\n",
    "df[\"State Bottle Cost\"] = df[\"State Bottle Cost\"].astype(float)\n",
    "\n",
    "df[\"Sale (Dollars)\"] = df[\"Sale (Dollars)\"].replace(\"\\$\", \"\", regex = True) \n",
    "\n",
    "#convert to float\n",
    "df[\"Sale (Dollars)\"] = df[\"Sale (Dollars)\"].astype(float)"
   ]
  },
  {
   "cell_type": "code",
   "execution_count": 24,
   "metadata": {
    "collapsed": false
   },
   "outputs": [
    {
     "data": {
      "text/plain": [
       "array([  6.75,  20.63,  18.89, ...,  20.64,   9.51,  13.25])"
      ]
     },
     "execution_count": 24,
     "metadata": {},
     "output_type": "execute_result"
    }
   ],
   "source": [
    "df[\"State Bottle Retail\"].unique()"
   ]
  },
  {
   "cell_type": "code",
   "execution_count": 25,
   "metadata": {
    "collapsed": false
   },
   "outputs": [
    {
     "data": {
      "text/plain": [
       "count    269810.00000\n",
       "mean         14.67454\n",
       "std          10.57158\n",
       "min           1.34000\n",
       "25%           8.27000\n",
       "50%          12.27000\n",
       "75%          17.88000\n",
       "max         637.50000\n",
       "Name: State Bottle Retail, dtype: float64"
      ]
     },
     "execution_count": 25,
     "metadata": {},
     "output_type": "execute_result"
    }
   ],
   "source": [
    "df[\"State Bottle Retail\"].describe()\n",
    "\n",
    "# mean cost to store 14.81 per bottle "
   ]
  },
  {
   "cell_type": "code",
   "execution_count": 26,
   "metadata": {
    "collapsed": false
   },
   "outputs": [
    {
     "data": {
      "text/html": [
       "<div>\n",
       "<table border=\"1\" class=\"dataframe\">\n",
       "  <thead>\n",
       "    <tr style=\"text-align: right;\">\n",
       "      <th></th>\n",
       "      <th>Date</th>\n",
       "      <th>Store Number</th>\n",
       "      <th>City</th>\n",
       "      <th>Zip Code</th>\n",
       "      <th>County Number</th>\n",
       "      <th>County</th>\n",
       "      <th>Category</th>\n",
       "      <th>Category Name</th>\n",
       "      <th>Vendor Number</th>\n",
       "      <th>Item Number</th>\n",
       "      <th>Item Description</th>\n",
       "      <th>Bottle Volume (ml)</th>\n",
       "      <th>State Bottle Cost</th>\n",
       "      <th>State Bottle Retail</th>\n",
       "      <th>Bottles Sold</th>\n",
       "      <th>Sale (Dollars)</th>\n",
       "      <th>Volume Sold (Liters)</th>\n",
       "      <th>Volume Sold (Gallons)</th>\n",
       "      <th>year</th>\n",
       "      <th>month</th>\n",
       "    </tr>\n",
       "  </thead>\n",
       "  <tbody>\n",
       "    <tr>\n",
       "      <th>0</th>\n",
       "      <td>2015-11-04</td>\n",
       "      <td>3717</td>\n",
       "      <td>SUMNER</td>\n",
       "      <td>50674</td>\n",
       "      <td>9.0</td>\n",
       "      <td>Bremer</td>\n",
       "      <td>1051100.0</td>\n",
       "      <td>APRICOT BRANDIES</td>\n",
       "      <td>55</td>\n",
       "      <td>54436</td>\n",
       "      <td>Mr. Boston Apricot Brandy</td>\n",
       "      <td>750</td>\n",
       "      <td>4.50</td>\n",
       "      <td>6.75</td>\n",
       "      <td>12</td>\n",
       "      <td>81.00</td>\n",
       "      <td>9.0</td>\n",
       "      <td>2.38</td>\n",
       "      <td>2015</td>\n",
       "      <td>11</td>\n",
       "    </tr>\n",
       "    <tr>\n",
       "      <th>1</th>\n",
       "      <td>2016-03-02</td>\n",
       "      <td>2614</td>\n",
       "      <td>DAVENPORT</td>\n",
       "      <td>52807</td>\n",
       "      <td>82.0</td>\n",
       "      <td>Scott</td>\n",
       "      <td>1011100.0</td>\n",
       "      <td>BLENDED WHISKIES</td>\n",
       "      <td>395</td>\n",
       "      <td>27605</td>\n",
       "      <td>Tin Cup</td>\n",
       "      <td>750</td>\n",
       "      <td>13.75</td>\n",
       "      <td>20.63</td>\n",
       "      <td>2</td>\n",
       "      <td>41.26</td>\n",
       "      <td>1.5</td>\n",
       "      <td>0.40</td>\n",
       "      <td>2016</td>\n",
       "      <td>3</td>\n",
       "    </tr>\n",
       "    <tr>\n",
       "      <th>2</th>\n",
       "      <td>2016-02-11</td>\n",
       "      <td>2106</td>\n",
       "      <td>CEDAR FALLS</td>\n",
       "      <td>50613</td>\n",
       "      <td>7.0</td>\n",
       "      <td>Black Hawk</td>\n",
       "      <td>1011200.0</td>\n",
       "      <td>STRAIGHT BOURBON WHISKIES</td>\n",
       "      <td>65</td>\n",
       "      <td>19067</td>\n",
       "      <td>Jim Beam</td>\n",
       "      <td>1000</td>\n",
       "      <td>12.59</td>\n",
       "      <td>18.89</td>\n",
       "      <td>24</td>\n",
       "      <td>453.36</td>\n",
       "      <td>24.0</td>\n",
       "      <td>6.34</td>\n",
       "      <td>2016</td>\n",
       "      <td>2</td>\n",
       "    </tr>\n",
       "    <tr>\n",
       "      <th>3</th>\n",
       "      <td>2016-02-03</td>\n",
       "      <td>2501</td>\n",
       "      <td>AMES</td>\n",
       "      <td>50010</td>\n",
       "      <td>85.0</td>\n",
       "      <td>Story</td>\n",
       "      <td>1071100.0</td>\n",
       "      <td>AMERICAN COCKTAILS</td>\n",
       "      <td>395</td>\n",
       "      <td>59154</td>\n",
       "      <td>1800 Ultimate Margarita</td>\n",
       "      <td>1750</td>\n",
       "      <td>9.50</td>\n",
       "      <td>14.25</td>\n",
       "      <td>6</td>\n",
       "      <td>85.50</td>\n",
       "      <td>10.5</td>\n",
       "      <td>2.77</td>\n",
       "      <td>2016</td>\n",
       "      <td>2</td>\n",
       "    </tr>\n",
       "    <tr>\n",
       "      <th>4</th>\n",
       "      <td>2015-08-18</td>\n",
       "      <td>3654</td>\n",
       "      <td>BELMOND</td>\n",
       "      <td>50421</td>\n",
       "      <td>99.0</td>\n",
       "      <td>Wright</td>\n",
       "      <td>1031080.0</td>\n",
       "      <td>VODKA 80 PROOF</td>\n",
       "      <td>297</td>\n",
       "      <td>35918</td>\n",
       "      <td>Five O'clock Vodka</td>\n",
       "      <td>1750</td>\n",
       "      <td>7.20</td>\n",
       "      <td>10.80</td>\n",
       "      <td>12</td>\n",
       "      <td>129.60</td>\n",
       "      <td>21.0</td>\n",
       "      <td>5.55</td>\n",
       "      <td>2015</td>\n",
       "      <td>8</td>\n",
       "    </tr>\n",
       "  </tbody>\n",
       "</table>\n",
       "</div>"
      ],
      "text/plain": [
       "        Date  Store Number         City Zip Code  County Number      County  \\\n",
       "0 2015-11-04          3717       SUMNER    50674            9.0      Bremer   \n",
       "1 2016-03-02          2614    DAVENPORT    52807           82.0       Scott   \n",
       "2 2016-02-11          2106  CEDAR FALLS    50613            7.0  Black Hawk   \n",
       "3 2016-02-03          2501         AMES    50010           85.0       Story   \n",
       "4 2015-08-18          3654      BELMOND    50421           99.0      Wright   \n",
       "\n",
       "    Category              Category Name  Vendor Number  Item Number  \\\n",
       "0  1051100.0           APRICOT BRANDIES             55        54436   \n",
       "1  1011100.0           BLENDED WHISKIES            395        27605   \n",
       "2  1011200.0  STRAIGHT BOURBON WHISKIES             65        19067   \n",
       "3  1071100.0         AMERICAN COCKTAILS            395        59154   \n",
       "4  1031080.0             VODKA 80 PROOF            297        35918   \n",
       "\n",
       "            Item Description  Bottle Volume (ml)  State Bottle Cost  \\\n",
       "0  Mr. Boston Apricot Brandy                 750               4.50   \n",
       "1                    Tin Cup                 750              13.75   \n",
       "2                   Jim Beam                1000              12.59   \n",
       "3    1800 Ultimate Margarita                1750               9.50   \n",
       "4         Five O'clock Vodka                1750               7.20   \n",
       "\n",
       "   State Bottle Retail  Bottles Sold  Sale (Dollars)  Volume Sold (Liters)  \\\n",
       "0                 6.75            12           81.00                   9.0   \n",
       "1                20.63             2           41.26                   1.5   \n",
       "2                18.89            24          453.36                  24.0   \n",
       "3                14.25             6           85.50                  10.5   \n",
       "4                10.80            12          129.60                  21.0   \n",
       "\n",
       "   Volume Sold (Gallons)  year  month  \n",
       "0                   2.38  2015     11  \n",
       "1                   0.40  2016      3  \n",
       "2                   6.34  2016      2  \n",
       "3                   2.77  2016      2  \n",
       "4                   5.55  2015      8  "
      ]
     },
     "execution_count": 26,
     "metadata": {},
     "output_type": "execute_result"
    }
   ],
   "source": [
    "df.head()"
   ]
  },
  {
   "cell_type": "code",
   "execution_count": 27,
   "metadata": {
    "collapsed": false
   },
   "outputs": [
    {
     "data": {
      "text/plain": [
       "12.27"
      ]
     },
     "execution_count": 27,
     "metadata": {},
     "output_type": "execute_result"
    }
   ],
   "source": [
    "df[\"State Bottle Retail\"].median()\n",
    "# median cost to store per bottle $12.30\n"
   ]
  },
  {
   "cell_type": "code",
   "execution_count": 28,
   "metadata": {
    "collapsed": false
   },
   "outputs": [],
   "source": [
    "# Sale (Dollars) rremove $ and convert to float\n",
    "\n",
    "#remove dollar sign\n",
    "df[\"Sale (Dollars)\"] = df[\"Sale (Dollars)\"].replace(\"\\$\", \"\", regex = True) \n",
    "\n",
    "#convert to float\n",
    "df[\"Sale (Dollars)\"] = df[\"Sale (Dollars)\"].astype(float)\n",
    "\n",
    "df[\"State Bottle Cost\"] = df[\"State Bottle Cost\"].replace(\"\\$\", \"\", regex = True) \n",
    "\n",
    "#convert to float\n",
    "df[\"Sale Bottle Cost\"] = df[\"State Bottle Cost\"].astype(float)\n",
    "\n",
    "df[\"State Bottle Retail\"] = df[\"State Bottle Retail\"].replace(\"\\$\", \"\", regex = True) \n",
    "\n",
    "#convert to float\n",
    "df[\"Sale Bottle Retail\"] = df[\"State Bottle Retail\"].astype(float)"
   ]
  },
  {
   "cell_type": "code",
   "execution_count": 29,
   "metadata": {
    "collapsed": false
   },
   "outputs": [
    {
     "data": {
      "text/plain": [
       "Date                     datetime64[ns]\n",
       "Store Number                      int64\n",
       "City                             object\n",
       "Zip Code                         object\n",
       "County Number                   float64\n",
       "County                           object\n",
       "Category                        float64\n",
       "Category Name                    object\n",
       "Vendor Number                     int64\n",
       "Item Number                       int64\n",
       "Item Description                 object\n",
       "Bottle Volume (ml)                int64\n",
       "State Bottle Cost               float64\n",
       "State Bottle Retail             float64\n",
       "Bottles Sold                      int64\n",
       "Sale (Dollars)                  float64\n",
       "Volume Sold (Liters)            float64\n",
       "Volume Sold (Gallons)           float64\n",
       "year                              int64\n",
       "month                             int64\n",
       "Sale Bottle Cost                float64\n",
       "Sale Bottle Retail              float64\n",
       "dtype: object"
      ]
     },
     "execution_count": 29,
     "metadata": {},
     "output_type": "execute_result"
    }
   ],
   "source": [
    "df.dtypes"
   ]
  },
  {
   "cell_type": "code",
   "execution_count": 30,
   "metadata": {
    "collapsed": false
   },
   "outputs": [],
   "source": [
    "#df[\"Sale (Dollars)\"].unique"
   ]
  },
  {
   "cell_type": "code",
   "execution_count": 31,
   "metadata": {
    "collapsed": false
   },
   "outputs": [
    {
     "data": {
      "text/plain": [
       "count    269810.000000\n",
       "mean        128.965269\n",
       "std         383.663915\n",
       "min           1.340000\n",
       "25%          30.450000\n",
       "50%          70.560000\n",
       "75%         135.000000\n",
       "max       36392.400000\n",
       "Name: Sale (Dollars), dtype: float64"
      ]
     },
     "execution_count": 31,
     "metadata": {},
     "output_type": "execute_result"
    }
   ],
   "source": [
    "df[\"Sale (Dollars)\"].describe()\n",
    "\n",
    "# mean revenue per transaction is $131.76\n",
    "# do not use mean to desribe average revenue"
   ]
  },
  {
   "cell_type": "code",
   "execution_count": 32,
   "metadata": {
    "collapsed": false
   },
   "outputs": [
    {
     "data": {
      "text/plain": [
       "70.56"
      ]
     },
     "execution_count": 32,
     "metadata": {},
     "output_type": "execute_result"
    }
   ],
   "source": [
    "df[\"Sale (Dollars)\"].median()\n",
    "\n",
    "# median revenue per transaction is $70.56"
   ]
  },
  {
   "cell_type": "code",
   "execution_count": 33,
   "metadata": {
    "collapsed": false
   },
   "outputs": [
    {
     "data": {
      "text/plain": [
       "array([  12,    2,   24,    6,    3,    4,    1,   48,   18,    5,    9,\n",
       "         60,   36,    7,   10,    8,  240,  192,  132,   30,  384,   66,\n",
       "        120,   96,   42,  336,  180,   13,   44,   72,   54,  144,  300,\n",
       "         90, 1200,   84,  660,  126,   15,  600,  168,  288,   11,  228,\n",
       "         57,  402,  480,   78,  108,   20,  360,  150,   16,  408,  528,\n",
       "        174,  960,  156,   14,  582,  456,  330,  474,  720,  840,   19,\n",
       "        552,  570,  204, 2508,  264,  594,  768,  576,  354, 1320,  210,\n",
       "        780,  312,   25,   33,  900, 1080,   88,  444,  420,  216,  372,\n",
       "         40,  270,  432,  102,  324,  138,  252,  540,  564,  276,  984,\n",
       "       1164,   80,  450,  504, 2400,   50,  114,   34,   21,  624,   75,\n",
       "        157,  162,  708,  282,   17,  198, 1800,  247,  588,  186,  390,\n",
       "        516,   28,  672,  396, 1050, 1116,   97,   81, 1128,  438,  492,\n",
       "        378,  816,   39,   37,  615])"
      ]
     },
     "execution_count": 33,
     "metadata": {},
     "output_type": "execute_result"
    }
   ],
   "source": [
    "df[\"Bottles Sold\"].unique()"
   ]
  },
  {
   "cell_type": "code",
   "execution_count": 34,
   "metadata": {
    "collapsed": false
   },
   "outputs": [
    {
     "data": {
      "text/plain": [
       "count    269810.000000\n",
       "mean          9.874334\n",
       "std          24.064832\n",
       "min           1.000000\n",
       "25%           2.000000\n",
       "50%           6.000000\n",
       "75%          12.000000\n",
       "max        2508.000000\n",
       "Name: Bottles Sold, dtype: float64"
      ]
     },
     "execution_count": 34,
     "metadata": {},
     "output_type": "execute_result"
    }
   ],
   "source": [
    "df[\"Bottles Sold\"].describe()\n",
    "# mean bottles sold per transaction is approximately 10\n",
    "# do not use mean for analysis"
   ]
  },
  {
   "cell_type": "code",
   "execution_count": 35,
   "metadata": {
    "collapsed": false
   },
   "outputs": [
    {
     "data": {
      "text/plain": [
       "6.0"
      ]
     },
     "execution_count": 35,
     "metadata": {},
     "output_type": "execute_result"
    }
   ],
   "source": [
    "df[\"Bottles Sold\"].median()\n",
    "# median bottles sold per transaction is 6"
   ]
  },
  {
   "cell_type": "code",
   "execution_count": 251,
   "metadata": {
    "collapsed": false
   },
   "outputs": [
    {
     "data": {
      "text/html": [
       "<div>\n",
       "<table border=\"1\" class=\"dataframe\">\n",
       "  <thead>\n",
       "    <tr style=\"text-align: right;\">\n",
       "      <th></th>\n",
       "      <th>Store Number</th>\n",
       "      <th>County Number</th>\n",
       "      <th>Category</th>\n",
       "      <th>Vendor Number</th>\n",
       "      <th>Item Number</th>\n",
       "      <th>Bottle Volume (ml)</th>\n",
       "      <th>State Bottle Cost</th>\n",
       "      <th>State Bottle Retail</th>\n",
       "      <th>Bottles Sold</th>\n",
       "      <th>Sale (Dollars)</th>\n",
       "      <th>Volume Sold (Liters)</th>\n",
       "      <th>Volume Sold (Gallons)</th>\n",
       "      <th>year</th>\n",
       "      <th>month</th>\n",
       "      <th>Sale Bottle Cost</th>\n",
       "      <th>Sale Bottle Retail</th>\n",
       "    </tr>\n",
       "  </thead>\n",
       "  <tbody>\n",
       "    <tr>\n",
       "      <th>Store Number</th>\n",
       "      <td>1.000000</td>\n",
       "      <td>0.007572</td>\n",
       "      <td>-0.012266</td>\n",
       "      <td>-0.004653</td>\n",
       "      <td>-0.026552</td>\n",
       "      <td>-0.062789</td>\n",
       "      <td>-0.071392</td>\n",
       "      <td>-0.071528</td>\n",
       "      <td>0.014817</td>\n",
       "      <td>-0.017620</td>\n",
       "      <td>-0.017297</td>\n",
       "      <td>-0.017286</td>\n",
       "      <td>0.020334</td>\n",
       "      <td>0.004926</td>\n",
       "      <td>-0.071392</td>\n",
       "      <td>-0.071528</td>\n",
       "    </tr>\n",
       "    <tr>\n",
       "      <th>County Number</th>\n",
       "      <td>0.007572</td>\n",
       "      <td>1.000000</td>\n",
       "      <td>-0.006336</td>\n",
       "      <td>0.001681</td>\n",
       "      <td>0.006824</td>\n",
       "      <td>-0.027823</td>\n",
       "      <td>0.012149</td>\n",
       "      <td>0.012075</td>\n",
       "      <td>0.018952</td>\n",
       "      <td>0.019854</td>\n",
       "      <td>0.010194</td>\n",
       "      <td>0.010203</td>\n",
       "      <td>0.003084</td>\n",
       "      <td>-0.001191</td>\n",
       "      <td>0.012149</td>\n",
       "      <td>0.012075</td>\n",
       "    </tr>\n",
       "    <tr>\n",
       "      <th>Category</th>\n",
       "      <td>-0.012266</td>\n",
       "      <td>-0.006336</td>\n",
       "      <td>1.000000</td>\n",
       "      <td>0.091787</td>\n",
       "      <td>0.116240</td>\n",
       "      <td>-0.009339</td>\n",
       "      <td>-0.013471</td>\n",
       "      <td>-0.013658</td>\n",
       "      <td>-0.000155</td>\n",
       "      <td>0.006447</td>\n",
       "      <td>-0.004296</td>\n",
       "      <td>-0.004287</td>\n",
       "      <td>-0.016347</td>\n",
       "      <td>0.051328</td>\n",
       "      <td>-0.013471</td>\n",
       "      <td>-0.013658</td>\n",
       "    </tr>\n",
       "    <tr>\n",
       "      <th>Vendor Number</th>\n",
       "      <td>-0.004653</td>\n",
       "      <td>0.001681</td>\n",
       "      <td>0.091787</td>\n",
       "      <td>1.000000</td>\n",
       "      <td>0.136058</td>\n",
       "      <td>0.024799</td>\n",
       "      <td>0.003689</td>\n",
       "      <td>0.003297</td>\n",
       "      <td>-0.002258</td>\n",
       "      <td>-0.012324</td>\n",
       "      <td>-0.007457</td>\n",
       "      <td>-0.007453</td>\n",
       "      <td>0.006593</td>\n",
       "      <td>-0.001689</td>\n",
       "      <td>0.003689</td>\n",
       "      <td>0.003297</td>\n",
       "    </tr>\n",
       "    <tr>\n",
       "      <th>Item Number</th>\n",
       "      <td>-0.026552</td>\n",
       "      <td>0.006824</td>\n",
       "      <td>0.116240</td>\n",
       "      <td>0.136058</td>\n",
       "      <td>1.000000</td>\n",
       "      <td>-0.057292</td>\n",
       "      <td>0.097714</td>\n",
       "      <td>0.097446</td>\n",
       "      <td>-0.004690</td>\n",
       "      <td>0.003097</td>\n",
       "      <td>-0.009467</td>\n",
       "      <td>-0.009457</td>\n",
       "      <td>0.001241</td>\n",
       "      <td>-0.002275</td>\n",
       "      <td>0.097714</td>\n",
       "      <td>0.097446</td>\n",
       "    </tr>\n",
       "    <tr>\n",
       "      <th>Bottle Volume (ml)</th>\n",
       "      <td>-0.062789</td>\n",
       "      <td>-0.027823</td>\n",
       "      <td>-0.009339</td>\n",
       "      <td>0.024799</td>\n",
       "      <td>-0.057292</td>\n",
       "      <td>1.000000</td>\n",
       "      <td>0.312128</td>\n",
       "      <td>0.313108</td>\n",
       "      <td>-0.012078</td>\n",
       "      <td>0.082576</td>\n",
       "      <td>0.156317</td>\n",
       "      <td>0.156149</td>\n",
       "      <td>-0.002616</td>\n",
       "      <td>-0.002401</td>\n",
       "      <td>0.312128</td>\n",
       "      <td>0.313108</td>\n",
       "    </tr>\n",
       "    <tr>\n",
       "      <th>State Bottle Cost</th>\n",
       "      <td>-0.071392</td>\n",
       "      <td>0.012149</td>\n",
       "      <td>-0.013471</td>\n",
       "      <td>0.003689</td>\n",
       "      <td>0.097714</td>\n",
       "      <td>0.312128</td>\n",
       "      <td>1.000000</td>\n",
       "      <td>0.999960</td>\n",
       "      <td>-0.062789</td>\n",
       "      <td>0.135784</td>\n",
       "      <td>0.009275</td>\n",
       "      <td>0.009244</td>\n",
       "      <td>0.000945</td>\n",
       "      <td>0.011893</td>\n",
       "      <td>1.000000</td>\n",
       "      <td>0.999960</td>\n",
       "    </tr>\n",
       "    <tr>\n",
       "      <th>State Bottle Retail</th>\n",
       "      <td>-0.071528</td>\n",
       "      <td>0.012075</td>\n",
       "      <td>-0.013658</td>\n",
       "      <td>0.003297</td>\n",
       "      <td>0.097446</td>\n",
       "      <td>0.313108</td>\n",
       "      <td>0.999960</td>\n",
       "      <td>1.000000</td>\n",
       "      <td>-0.062641</td>\n",
       "      <td>0.135967</td>\n",
       "      <td>0.009714</td>\n",
       "      <td>0.009683</td>\n",
       "      <td>0.000581</td>\n",
       "      <td>0.012035</td>\n",
       "      <td>0.999960</td>\n",
       "      <td>1.000000</td>\n",
       "    </tr>\n",
       "    <tr>\n",
       "      <th>Bottles Sold</th>\n",
       "      <td>0.014817</td>\n",
       "      <td>0.018952</td>\n",
       "      <td>-0.000155</td>\n",
       "      <td>-0.002258</td>\n",
       "      <td>-0.004690</td>\n",
       "      <td>-0.012078</td>\n",
       "      <td>-0.062789</td>\n",
       "      <td>-0.062641</td>\n",
       "      <td>1.000000</td>\n",
       "      <td>0.826022</td>\n",
       "      <td>0.883978</td>\n",
       "      <td>0.884008</td>\n",
       "      <td>-0.006686</td>\n",
       "      <td>0.011301</td>\n",
       "      <td>-0.062789</td>\n",
       "      <td>-0.062641</td>\n",
       "    </tr>\n",
       "    <tr>\n",
       "      <th>Sale (Dollars)</th>\n",
       "      <td>-0.017620</td>\n",
       "      <td>0.019854</td>\n",
       "      <td>0.006447</td>\n",
       "      <td>-0.012324</td>\n",
       "      <td>0.003097</td>\n",
       "      <td>0.082576</td>\n",
       "      <td>0.135784</td>\n",
       "      <td>0.135967</td>\n",
       "      <td>0.826022</td>\n",
       "      <td>1.000000</td>\n",
       "      <td>0.846509</td>\n",
       "      <td>0.846520</td>\n",
       "      <td>-0.008290</td>\n",
       "      <td>0.014584</td>\n",
       "      <td>0.135784</td>\n",
       "      <td>0.135967</td>\n",
       "    </tr>\n",
       "    <tr>\n",
       "      <th>Volume Sold (Liters)</th>\n",
       "      <td>-0.017297</td>\n",
       "      <td>0.010194</td>\n",
       "      <td>-0.004296</td>\n",
       "      <td>-0.007457</td>\n",
       "      <td>-0.009467</td>\n",
       "      <td>0.156317</td>\n",
       "      <td>0.009275</td>\n",
       "      <td>0.009714</td>\n",
       "      <td>0.883978</td>\n",
       "      <td>0.846509</td>\n",
       "      <td>1.000000</td>\n",
       "      <td>1.000000</td>\n",
       "      <td>-0.007095</td>\n",
       "      <td>0.008592</td>\n",
       "      <td>0.009275</td>\n",
       "      <td>0.009714</td>\n",
       "    </tr>\n",
       "    <tr>\n",
       "      <th>Volume Sold (Gallons)</th>\n",
       "      <td>-0.017286</td>\n",
       "      <td>0.010203</td>\n",
       "      <td>-0.004287</td>\n",
       "      <td>-0.007453</td>\n",
       "      <td>-0.009457</td>\n",
       "      <td>0.156149</td>\n",
       "      <td>0.009244</td>\n",
       "      <td>0.009683</td>\n",
       "      <td>0.884008</td>\n",
       "      <td>0.846520</td>\n",
       "      <td>1.000000</td>\n",
       "      <td>1.000000</td>\n",
       "      <td>-0.007095</td>\n",
       "      <td>0.008593</td>\n",
       "      <td>0.009244</td>\n",
       "      <td>0.009683</td>\n",
       "    </tr>\n",
       "    <tr>\n",
       "      <th>year</th>\n",
       "      <td>0.020334</td>\n",
       "      <td>0.003084</td>\n",
       "      <td>-0.016347</td>\n",
       "      <td>0.006593</td>\n",
       "      <td>0.001241</td>\n",
       "      <td>-0.002616</td>\n",
       "      <td>0.000945</td>\n",
       "      <td>0.000581</td>\n",
       "      <td>-0.006686</td>\n",
       "      <td>-0.008290</td>\n",
       "      <td>-0.007095</td>\n",
       "      <td>-0.007095</td>\n",
       "      <td>1.000000</td>\n",
       "      <td>-0.505492</td>\n",
       "      <td>0.000945</td>\n",
       "      <td>0.000581</td>\n",
       "    </tr>\n",
       "    <tr>\n",
       "      <th>month</th>\n",
       "      <td>0.004926</td>\n",
       "      <td>-0.001191</td>\n",
       "      <td>0.051328</td>\n",
       "      <td>-0.001689</td>\n",
       "      <td>-0.002275</td>\n",
       "      <td>-0.002401</td>\n",
       "      <td>0.011893</td>\n",
       "      <td>0.012035</td>\n",
       "      <td>0.011301</td>\n",
       "      <td>0.014584</td>\n",
       "      <td>0.008592</td>\n",
       "      <td>0.008593</td>\n",
       "      <td>-0.505492</td>\n",
       "      <td>1.000000</td>\n",
       "      <td>0.011893</td>\n",
       "      <td>0.012035</td>\n",
       "    </tr>\n",
       "    <tr>\n",
       "      <th>Sale Bottle Cost</th>\n",
       "      <td>-0.071392</td>\n",
       "      <td>0.012149</td>\n",
       "      <td>-0.013471</td>\n",
       "      <td>0.003689</td>\n",
       "      <td>0.097714</td>\n",
       "      <td>0.312128</td>\n",
       "      <td>1.000000</td>\n",
       "      <td>0.999960</td>\n",
       "      <td>-0.062789</td>\n",
       "      <td>0.135784</td>\n",
       "      <td>0.009275</td>\n",
       "      <td>0.009244</td>\n",
       "      <td>0.000945</td>\n",
       "      <td>0.011893</td>\n",
       "      <td>1.000000</td>\n",
       "      <td>0.999960</td>\n",
       "    </tr>\n",
       "    <tr>\n",
       "      <th>Sale Bottle Retail</th>\n",
       "      <td>-0.071528</td>\n",
       "      <td>0.012075</td>\n",
       "      <td>-0.013658</td>\n",
       "      <td>0.003297</td>\n",
       "      <td>0.097446</td>\n",
       "      <td>0.313108</td>\n",
       "      <td>0.999960</td>\n",
       "      <td>1.000000</td>\n",
       "      <td>-0.062641</td>\n",
       "      <td>0.135967</td>\n",
       "      <td>0.009714</td>\n",
       "      <td>0.009683</td>\n",
       "      <td>0.000581</td>\n",
       "      <td>0.012035</td>\n",
       "      <td>0.999960</td>\n",
       "      <td>1.000000</td>\n",
       "    </tr>\n",
       "  </tbody>\n",
       "</table>\n",
       "</div>"
      ],
      "text/plain": [
       "                       Store Number  County Number  Category  Vendor Number  \\\n",
       "Store Number               1.000000       0.007572 -0.012266      -0.004653   \n",
       "County Number              0.007572       1.000000 -0.006336       0.001681   \n",
       "Category                  -0.012266      -0.006336  1.000000       0.091787   \n",
       "Vendor Number             -0.004653       0.001681  0.091787       1.000000   \n",
       "Item Number               -0.026552       0.006824  0.116240       0.136058   \n",
       "Bottle Volume (ml)        -0.062789      -0.027823 -0.009339       0.024799   \n",
       "State Bottle Cost         -0.071392       0.012149 -0.013471       0.003689   \n",
       "State Bottle Retail       -0.071528       0.012075 -0.013658       0.003297   \n",
       "Bottles Sold               0.014817       0.018952 -0.000155      -0.002258   \n",
       "Sale (Dollars)            -0.017620       0.019854  0.006447      -0.012324   \n",
       "Volume Sold (Liters)      -0.017297       0.010194 -0.004296      -0.007457   \n",
       "Volume Sold (Gallons)     -0.017286       0.010203 -0.004287      -0.007453   \n",
       "year                       0.020334       0.003084 -0.016347       0.006593   \n",
       "month                      0.004926      -0.001191  0.051328      -0.001689   \n",
       "Sale Bottle Cost          -0.071392       0.012149 -0.013471       0.003689   \n",
       "Sale Bottle Retail        -0.071528       0.012075 -0.013658       0.003297   \n",
       "\n",
       "                       Item Number  Bottle Volume (ml)  State Bottle Cost  \\\n",
       "Store Number             -0.026552           -0.062789          -0.071392   \n",
       "County Number             0.006824           -0.027823           0.012149   \n",
       "Category                  0.116240           -0.009339          -0.013471   \n",
       "Vendor Number             0.136058            0.024799           0.003689   \n",
       "Item Number               1.000000           -0.057292           0.097714   \n",
       "Bottle Volume (ml)       -0.057292            1.000000           0.312128   \n",
       "State Bottle Cost         0.097714            0.312128           1.000000   \n",
       "State Bottle Retail       0.097446            0.313108           0.999960   \n",
       "Bottles Sold             -0.004690           -0.012078          -0.062789   \n",
       "Sale (Dollars)            0.003097            0.082576           0.135784   \n",
       "Volume Sold (Liters)     -0.009467            0.156317           0.009275   \n",
       "Volume Sold (Gallons)    -0.009457            0.156149           0.009244   \n",
       "year                      0.001241           -0.002616           0.000945   \n",
       "month                    -0.002275           -0.002401           0.011893   \n",
       "Sale Bottle Cost          0.097714            0.312128           1.000000   \n",
       "Sale Bottle Retail        0.097446            0.313108           0.999960   \n",
       "\n",
       "                       State Bottle Retail  Bottles Sold  Sale (Dollars)  \\\n",
       "Store Number                     -0.071528      0.014817       -0.017620   \n",
       "County Number                     0.012075      0.018952        0.019854   \n",
       "Category                         -0.013658     -0.000155        0.006447   \n",
       "Vendor Number                     0.003297     -0.002258       -0.012324   \n",
       "Item Number                       0.097446     -0.004690        0.003097   \n",
       "Bottle Volume (ml)                0.313108     -0.012078        0.082576   \n",
       "State Bottle Cost                 0.999960     -0.062789        0.135784   \n",
       "State Bottle Retail               1.000000     -0.062641        0.135967   \n",
       "Bottles Sold                     -0.062641      1.000000        0.826022   \n",
       "Sale (Dollars)                    0.135967      0.826022        1.000000   \n",
       "Volume Sold (Liters)              0.009714      0.883978        0.846509   \n",
       "Volume Sold (Gallons)             0.009683      0.884008        0.846520   \n",
       "year                              0.000581     -0.006686       -0.008290   \n",
       "month                             0.012035      0.011301        0.014584   \n",
       "Sale Bottle Cost                  0.999960     -0.062789        0.135784   \n",
       "Sale Bottle Retail                1.000000     -0.062641        0.135967   \n",
       "\n",
       "                       Volume Sold (Liters)  Volume Sold (Gallons)      year  \\\n",
       "Store Number                      -0.017297              -0.017286  0.020334   \n",
       "County Number                      0.010194               0.010203  0.003084   \n",
       "Category                          -0.004296              -0.004287 -0.016347   \n",
       "Vendor Number                     -0.007457              -0.007453  0.006593   \n",
       "Item Number                       -0.009467              -0.009457  0.001241   \n",
       "Bottle Volume (ml)                 0.156317               0.156149 -0.002616   \n",
       "State Bottle Cost                  0.009275               0.009244  0.000945   \n",
       "State Bottle Retail                0.009714               0.009683  0.000581   \n",
       "Bottles Sold                       0.883978               0.884008 -0.006686   \n",
       "Sale (Dollars)                     0.846509               0.846520 -0.008290   \n",
       "Volume Sold (Liters)               1.000000               1.000000 -0.007095   \n",
       "Volume Sold (Gallons)              1.000000               1.000000 -0.007095   \n",
       "year                              -0.007095              -0.007095  1.000000   \n",
       "month                              0.008592               0.008593 -0.505492   \n",
       "Sale Bottle Cost                   0.009275               0.009244  0.000945   \n",
       "Sale Bottle Retail                 0.009714               0.009683  0.000581   \n",
       "\n",
       "                          month  Sale Bottle Cost  Sale Bottle Retail  \n",
       "Store Number           0.004926         -0.071392           -0.071528  \n",
       "County Number         -0.001191          0.012149            0.012075  \n",
       "Category               0.051328         -0.013471           -0.013658  \n",
       "Vendor Number         -0.001689          0.003689            0.003297  \n",
       "Item Number           -0.002275          0.097714            0.097446  \n",
       "Bottle Volume (ml)    -0.002401          0.312128            0.313108  \n",
       "State Bottle Cost      0.011893          1.000000            0.999960  \n",
       "State Bottle Retail    0.012035          0.999960            1.000000  \n",
       "Bottles Sold           0.011301         -0.062789           -0.062641  \n",
       "Sale (Dollars)         0.014584          0.135784            0.135967  \n",
       "Volume Sold (Liters)   0.008592          0.009275            0.009714  \n",
       "Volume Sold (Gallons)  0.008593          0.009244            0.009683  \n",
       "year                  -0.505492          0.000945            0.000581  \n",
       "month                  1.000000          0.011893            0.012035  \n",
       "Sale Bottle Cost       0.011893          1.000000            0.999960  \n",
       "Sale Bottle Retail     0.012035          0.999960            1.000000  "
      ]
     },
     "execution_count": 251,
     "metadata": {},
     "output_type": "execute_result"
    }
   ],
   "source": [
    "#correlation matrix\n",
    "df.corr()"
   ]
  },
  {
   "cell_type": "code",
   "execution_count": 36,
   "metadata": {
    "collapsed": false
   },
   "outputs": [
    {
     "data": {
      "text/html": [
       "<div>\n",
       "<table border=\"1\" class=\"dataframe\">\n",
       "  <thead>\n",
       "    <tr style=\"text-align: right;\">\n",
       "      <th></th>\n",
       "      <th>Date</th>\n",
       "      <th>Store Number</th>\n",
       "      <th>City</th>\n",
       "      <th>Zip Code</th>\n",
       "      <th>County Number</th>\n",
       "      <th>County</th>\n",
       "      <th>Category</th>\n",
       "      <th>Category Name</th>\n",
       "      <th>Vendor Number</th>\n",
       "      <th>Item Number</th>\n",
       "      <th>...</th>\n",
       "      <th>State Bottle Cost</th>\n",
       "      <th>State Bottle Retail</th>\n",
       "      <th>Bottles Sold</th>\n",
       "      <th>Sale (Dollars)</th>\n",
       "      <th>Volume Sold (Liters)</th>\n",
       "      <th>Volume Sold (Gallons)</th>\n",
       "      <th>year</th>\n",
       "      <th>month</th>\n",
       "      <th>Sale Bottle Cost</th>\n",
       "      <th>Sale Bottle Retail</th>\n",
       "    </tr>\n",
       "  </thead>\n",
       "  <tbody>\n",
       "    <tr>\n",
       "      <th>0</th>\n",
       "      <td>2015-11-04</td>\n",
       "      <td>3717</td>\n",
       "      <td>SUMNER</td>\n",
       "      <td>50674</td>\n",
       "      <td>9.0</td>\n",
       "      <td>Bremer</td>\n",
       "      <td>1051100.0</td>\n",
       "      <td>APRICOT BRANDIES</td>\n",
       "      <td>55</td>\n",
       "      <td>54436</td>\n",
       "      <td>...</td>\n",
       "      <td>4.50</td>\n",
       "      <td>6.75</td>\n",
       "      <td>12</td>\n",
       "      <td>81.00</td>\n",
       "      <td>9.0</td>\n",
       "      <td>2.38</td>\n",
       "      <td>2015</td>\n",
       "      <td>11</td>\n",
       "      <td>4.50</td>\n",
       "      <td>6.75</td>\n",
       "    </tr>\n",
       "    <tr>\n",
       "      <th>1</th>\n",
       "      <td>2016-03-02</td>\n",
       "      <td>2614</td>\n",
       "      <td>DAVENPORT</td>\n",
       "      <td>52807</td>\n",
       "      <td>82.0</td>\n",
       "      <td>Scott</td>\n",
       "      <td>1011100.0</td>\n",
       "      <td>BLENDED WHISKIES</td>\n",
       "      <td>395</td>\n",
       "      <td>27605</td>\n",
       "      <td>...</td>\n",
       "      <td>13.75</td>\n",
       "      <td>20.63</td>\n",
       "      <td>2</td>\n",
       "      <td>41.26</td>\n",
       "      <td>1.5</td>\n",
       "      <td>0.40</td>\n",
       "      <td>2016</td>\n",
       "      <td>3</td>\n",
       "      <td>13.75</td>\n",
       "      <td>20.63</td>\n",
       "    </tr>\n",
       "    <tr>\n",
       "      <th>2</th>\n",
       "      <td>2016-02-11</td>\n",
       "      <td>2106</td>\n",
       "      <td>CEDAR FALLS</td>\n",
       "      <td>50613</td>\n",
       "      <td>7.0</td>\n",
       "      <td>Black Hawk</td>\n",
       "      <td>1011200.0</td>\n",
       "      <td>STRAIGHT BOURBON WHISKIES</td>\n",
       "      <td>65</td>\n",
       "      <td>19067</td>\n",
       "      <td>...</td>\n",
       "      <td>12.59</td>\n",
       "      <td>18.89</td>\n",
       "      <td>24</td>\n",
       "      <td>453.36</td>\n",
       "      <td>24.0</td>\n",
       "      <td>6.34</td>\n",
       "      <td>2016</td>\n",
       "      <td>2</td>\n",
       "      <td>12.59</td>\n",
       "      <td>18.89</td>\n",
       "    </tr>\n",
       "    <tr>\n",
       "      <th>3</th>\n",
       "      <td>2016-02-03</td>\n",
       "      <td>2501</td>\n",
       "      <td>AMES</td>\n",
       "      <td>50010</td>\n",
       "      <td>85.0</td>\n",
       "      <td>Story</td>\n",
       "      <td>1071100.0</td>\n",
       "      <td>AMERICAN COCKTAILS</td>\n",
       "      <td>395</td>\n",
       "      <td>59154</td>\n",
       "      <td>...</td>\n",
       "      <td>9.50</td>\n",
       "      <td>14.25</td>\n",
       "      <td>6</td>\n",
       "      <td>85.50</td>\n",
       "      <td>10.5</td>\n",
       "      <td>2.77</td>\n",
       "      <td>2016</td>\n",
       "      <td>2</td>\n",
       "      <td>9.50</td>\n",
       "      <td>14.25</td>\n",
       "    </tr>\n",
       "    <tr>\n",
       "      <th>4</th>\n",
       "      <td>2015-08-18</td>\n",
       "      <td>3654</td>\n",
       "      <td>BELMOND</td>\n",
       "      <td>50421</td>\n",
       "      <td>99.0</td>\n",
       "      <td>Wright</td>\n",
       "      <td>1031080.0</td>\n",
       "      <td>VODKA 80 PROOF</td>\n",
       "      <td>297</td>\n",
       "      <td>35918</td>\n",
       "      <td>...</td>\n",
       "      <td>7.20</td>\n",
       "      <td>10.80</td>\n",
       "      <td>12</td>\n",
       "      <td>129.60</td>\n",
       "      <td>21.0</td>\n",
       "      <td>5.55</td>\n",
       "      <td>2015</td>\n",
       "      <td>8</td>\n",
       "      <td>7.20</td>\n",
       "      <td>10.80</td>\n",
       "    </tr>\n",
       "  </tbody>\n",
       "</table>\n",
       "<p>5 rows × 22 columns</p>\n",
       "</div>"
      ],
      "text/plain": [
       "        Date  Store Number         City Zip Code  County Number      County  \\\n",
       "0 2015-11-04          3717       SUMNER    50674            9.0      Bremer   \n",
       "1 2016-03-02          2614    DAVENPORT    52807           82.0       Scott   \n",
       "2 2016-02-11          2106  CEDAR FALLS    50613            7.0  Black Hawk   \n",
       "3 2016-02-03          2501         AMES    50010           85.0       Story   \n",
       "4 2015-08-18          3654      BELMOND    50421           99.0      Wright   \n",
       "\n",
       "    Category              Category Name  Vendor Number  Item Number  \\\n",
       "0  1051100.0           APRICOT BRANDIES             55        54436   \n",
       "1  1011100.0           BLENDED WHISKIES            395        27605   \n",
       "2  1011200.0  STRAIGHT BOURBON WHISKIES             65        19067   \n",
       "3  1071100.0         AMERICAN COCKTAILS            395        59154   \n",
       "4  1031080.0             VODKA 80 PROOF            297        35918   \n",
       "\n",
       "          ...         State Bottle Cost  State Bottle Retail  Bottles Sold  \\\n",
       "0         ...                      4.50                 6.75            12   \n",
       "1         ...                     13.75                20.63             2   \n",
       "2         ...                     12.59                18.89            24   \n",
       "3         ...                      9.50                14.25             6   \n",
       "4         ...                      7.20                10.80            12   \n",
       "\n",
       "   Sale (Dollars)  Volume Sold (Liters)  Volume Sold (Gallons)  year  month  \\\n",
       "0           81.00                   9.0                   2.38  2015     11   \n",
       "1           41.26                   1.5                   0.40  2016      3   \n",
       "2          453.36                  24.0                   6.34  2016      2   \n",
       "3           85.50                  10.5                   2.77  2016      2   \n",
       "4          129.60                  21.0                   5.55  2015      8   \n",
       "\n",
       "   Sale Bottle Cost  Sale Bottle Retail  \n",
       "0              4.50                6.75  \n",
       "1             13.75               20.63  \n",
       "2             12.59               18.89  \n",
       "3              9.50               14.25  \n",
       "4              7.20               10.80  \n",
       "\n",
       "[5 rows x 22 columns]"
      ]
     },
     "execution_count": 36,
     "metadata": {},
     "output_type": "execute_result"
    }
   ],
   "source": [
    "df.head()"
   ]
  },
  {
   "cell_type": "markdown",
   "metadata": {},
   "source": [
    "Calculate the yearly liquor sales for each store using the provided data. You can add up the transactions for each year, and store sales in 2015 specifically will be used later as your target variable."
   ]
  },
  {
   "cell_type": "code",
   "execution_count": 37,
   "metadata": {
    "collapsed": true
   },
   "outputs": [],
   "source": [
    "# filter for 2015\n",
    "mask2015 = df[\"year\"] == 2015\n",
    "\n",
    "df15 = df[mask2015]\n",
    "\n",
    "df_1 = df.copy()\n",
    "\n"
   ]
  },
  {
   "cell_type": "code",
   "execution_count": 38,
   "metadata": {
    "collapsed": false
   },
   "outputs": [
    {
     "data": {
      "text/plain": [
       "Date                       0\n",
       "Store Number               0\n",
       "City                       0\n",
       "Zip Code                   0\n",
       "County Number              0\n",
       "County                     0\n",
       "Category                   0\n",
       "Category Name            552\n",
       "Vendor Number              0\n",
       "Item Number                0\n",
       "Item Description           0\n",
       "Bottle Volume (ml)         0\n",
       "State Bottle Cost          0\n",
       "State Bottle Retail        0\n",
       "Bottles Sold               0\n",
       "Sale (Dollars)             0\n",
       "Volume Sold (Liters)       0\n",
       "Volume Sold (Gallons)      0\n",
       "year                       0\n",
       "month                      0\n",
       "Sale Bottle Cost           0\n",
       "Sale Bottle Retail         0\n",
       "dtype: int64"
      ]
     },
     "execution_count": 38,
     "metadata": {},
     "output_type": "execute_result"
    }
   ],
   "source": [
    "df_1.isnull().sum()"
   ]
  },
  {
   "cell_type": "code",
   "execution_count": 39,
   "metadata": {
    "collapsed": false
   },
   "outputs": [
    {
     "data": {
      "text/plain": [
       "Date                     datetime64[ns]\n",
       "Store Number                      int64\n",
       "City                             object\n",
       "Zip Code                         object\n",
       "County Number                   float64\n",
       "County                           object\n",
       "Category                        float64\n",
       "Category Name                    object\n",
       "Vendor Number                     int64\n",
       "Item Number                       int64\n",
       "Item Description                 object\n",
       "Bottle Volume (ml)                int64\n",
       "State Bottle Cost               float64\n",
       "State Bottle Retail             float64\n",
       "Bottles Sold                      int64\n",
       "Sale (Dollars)                  float64\n",
       "Volume Sold (Liters)            float64\n",
       "Volume Sold (Gallons)           float64\n",
       "year                              int64\n",
       "month                             int64\n",
       "Sale Bottle Cost                float64\n",
       "Sale Bottle Retail              float64\n",
       "dtype: object"
      ]
     },
     "execution_count": 39,
     "metadata": {},
     "output_type": "execute_result"
    }
   ],
   "source": [
    "df_1.dtypes\n"
   ]
  },
  {
   "cell_type": "code",
   "execution_count": 40,
   "metadata": {
    "collapsed": true
   },
   "outputs": [],
   "source": [
    "df = df.dropna(subset = [\"Category\"])"
   ]
  },
  {
   "cell_type": "code",
   "execution_count": 41,
   "metadata": {
    "collapsed": false
   },
   "outputs": [
    {
     "data": {
      "text/html": [
       "<div>\n",
       "<table border=\"1\" class=\"dataframe\">\n",
       "  <thead>\n",
       "    <tr style=\"text-align: right;\">\n",
       "      <th></th>\n",
       "      <th>Date</th>\n",
       "      <th>Store Number</th>\n",
       "      <th>City</th>\n",
       "      <th>Zip Code</th>\n",
       "      <th>County Number</th>\n",
       "      <th>County</th>\n",
       "      <th>Category</th>\n",
       "      <th>Category Name</th>\n",
       "      <th>Vendor Number</th>\n",
       "      <th>Item Number</th>\n",
       "      <th>...</th>\n",
       "      <th>State Bottle Cost</th>\n",
       "      <th>State Bottle Retail</th>\n",
       "      <th>Bottles Sold</th>\n",
       "      <th>Sale (Dollars)</th>\n",
       "      <th>Volume Sold (Liters)</th>\n",
       "      <th>Volume Sold (Gallons)</th>\n",
       "      <th>year</th>\n",
       "      <th>month</th>\n",
       "      <th>Sale Bottle Cost</th>\n",
       "      <th>Sale Bottle Retail</th>\n",
       "    </tr>\n",
       "  </thead>\n",
       "  <tbody>\n",
       "    <tr>\n",
       "      <th>0</th>\n",
       "      <td>2015-11-04</td>\n",
       "      <td>3717</td>\n",
       "      <td>SUMNER</td>\n",
       "      <td>50674</td>\n",
       "      <td>9.0</td>\n",
       "      <td>Bremer</td>\n",
       "      <td>1051100.0</td>\n",
       "      <td>APRICOT BRANDIES</td>\n",
       "      <td>55</td>\n",
       "      <td>54436</td>\n",
       "      <td>...</td>\n",
       "      <td>4.50</td>\n",
       "      <td>6.75</td>\n",
       "      <td>12</td>\n",
       "      <td>81.00</td>\n",
       "      <td>9.00</td>\n",
       "      <td>2.38</td>\n",
       "      <td>2015</td>\n",
       "      <td>11</td>\n",
       "      <td>4.50</td>\n",
       "      <td>6.75</td>\n",
       "    </tr>\n",
       "    <tr>\n",
       "      <th>4</th>\n",
       "      <td>2015-08-18</td>\n",
       "      <td>3654</td>\n",
       "      <td>BELMOND</td>\n",
       "      <td>50421</td>\n",
       "      <td>99.0</td>\n",
       "      <td>Wright</td>\n",
       "      <td>1031080.0</td>\n",
       "      <td>VODKA 80 PROOF</td>\n",
       "      <td>297</td>\n",
       "      <td>35918</td>\n",
       "      <td>...</td>\n",
       "      <td>7.20</td>\n",
       "      <td>10.80</td>\n",
       "      <td>12</td>\n",
       "      <td>129.60</td>\n",
       "      <td>21.00</td>\n",
       "      <td>5.55</td>\n",
       "      <td>2015</td>\n",
       "      <td>8</td>\n",
       "      <td>7.20</td>\n",
       "      <td>10.80</td>\n",
       "    </tr>\n",
       "    <tr>\n",
       "      <th>5</th>\n",
       "      <td>2015-04-20</td>\n",
       "      <td>2569</td>\n",
       "      <td>CEDAR RAPIDS</td>\n",
       "      <td>52402</td>\n",
       "      <td>57.0</td>\n",
       "      <td>Linn</td>\n",
       "      <td>1041100.0</td>\n",
       "      <td>AMERICAN DRY GINS</td>\n",
       "      <td>205</td>\n",
       "      <td>31473</td>\n",
       "      <td>...</td>\n",
       "      <td>13.32</td>\n",
       "      <td>19.98</td>\n",
       "      <td>6</td>\n",
       "      <td>119.88</td>\n",
       "      <td>10.50</td>\n",
       "      <td>2.77</td>\n",
       "      <td>2015</td>\n",
       "      <td>4</td>\n",
       "      <td>13.32</td>\n",
       "      <td>19.98</td>\n",
       "    </tr>\n",
       "    <tr>\n",
       "      <th>6</th>\n",
       "      <td>2015-08-05</td>\n",
       "      <td>2596</td>\n",
       "      <td>OTTUMWA</td>\n",
       "      <td>52501</td>\n",
       "      <td>90.0</td>\n",
       "      <td>Wapello</td>\n",
       "      <td>1051010.0</td>\n",
       "      <td>AMERICAN GRAPE BRANDIES</td>\n",
       "      <td>85</td>\n",
       "      <td>52806</td>\n",
       "      <td>...</td>\n",
       "      <td>6.66</td>\n",
       "      <td>9.99</td>\n",
       "      <td>3</td>\n",
       "      <td>29.97</td>\n",
       "      <td>2.25</td>\n",
       "      <td>0.59</td>\n",
       "      <td>2015</td>\n",
       "      <td>8</td>\n",
       "      <td>6.66</td>\n",
       "      <td>9.99</td>\n",
       "    </tr>\n",
       "    <tr>\n",
       "      <th>7</th>\n",
       "      <td>2015-06-25</td>\n",
       "      <td>3456</td>\n",
       "      <td>CLEAR LAKE</td>\n",
       "      <td>50428</td>\n",
       "      <td>17.0</td>\n",
       "      <td>Cerro Gordo</td>\n",
       "      <td>1012100.0</td>\n",
       "      <td>CANADIAN WHISKIES</td>\n",
       "      <td>65</td>\n",
       "      <td>10628</td>\n",
       "      <td>...</td>\n",
       "      <td>15.75</td>\n",
       "      <td>23.63</td>\n",
       "      <td>2</td>\n",
       "      <td>47.26</td>\n",
       "      <td>3.50</td>\n",
       "      <td>0.92</td>\n",
       "      <td>2015</td>\n",
       "      <td>6</td>\n",
       "      <td>15.75</td>\n",
       "      <td>23.63</td>\n",
       "    </tr>\n",
       "  </tbody>\n",
       "</table>\n",
       "<p>5 rows × 22 columns</p>\n",
       "</div>"
      ],
      "text/plain": [
       "        Date  Store Number          City Zip Code  County Number       County  \\\n",
       "0 2015-11-04          3717        SUMNER    50674            9.0       Bremer   \n",
       "4 2015-08-18          3654       BELMOND    50421           99.0       Wright   \n",
       "5 2015-04-20          2569  CEDAR RAPIDS    52402           57.0         Linn   \n",
       "6 2015-08-05          2596       OTTUMWA    52501           90.0      Wapello   \n",
       "7 2015-06-25          3456    CLEAR LAKE    50428           17.0  Cerro Gordo   \n",
       "\n",
       "    Category            Category Name  Vendor Number  Item Number  \\\n",
       "0  1051100.0         APRICOT BRANDIES             55        54436   \n",
       "4  1031080.0           VODKA 80 PROOF            297        35918   \n",
       "5  1041100.0        AMERICAN DRY GINS            205        31473   \n",
       "6  1051010.0  AMERICAN GRAPE BRANDIES             85        52806   \n",
       "7  1012100.0        CANADIAN WHISKIES             65        10628   \n",
       "\n",
       "          ...         State Bottle Cost  State Bottle Retail  Bottles Sold  \\\n",
       "0         ...                      4.50                 6.75            12   \n",
       "4         ...                      7.20                10.80            12   \n",
       "5         ...                     13.32                19.98             6   \n",
       "6         ...                      6.66                 9.99             3   \n",
       "7         ...                     15.75                23.63             2   \n",
       "\n",
       "   Sale (Dollars)  Volume Sold (Liters)  Volume Sold (Gallons)  year  month  \\\n",
       "0           81.00                  9.00                   2.38  2015     11   \n",
       "4          129.60                 21.00                   5.55  2015      8   \n",
       "5          119.88                 10.50                   2.77  2015      4   \n",
       "6           29.97                  2.25                   0.59  2015      8   \n",
       "7           47.26                  3.50                   0.92  2015      6   \n",
       "\n",
       "   Sale Bottle Cost  Sale Bottle Retail  \n",
       "0              4.50                6.75  \n",
       "4              7.20               10.80  \n",
       "5             13.32               19.98  \n",
       "6              6.66                9.99  \n",
       "7             15.75               23.63  \n",
       "\n",
       "[5 rows x 22 columns]"
      ]
     },
     "execution_count": 41,
     "metadata": {},
     "output_type": "execute_result"
    }
   ],
   "source": [
    "df15.head()"
   ]
  },
  {
   "cell_type": "code",
   "execution_count": 42,
   "metadata": {
    "collapsed": false
   },
   "outputs": [
    {
     "data": {
      "text/plain": [
       "array([2015])"
      ]
     },
     "execution_count": 42,
     "metadata": {},
     "output_type": "execute_result"
    }
   ],
   "source": [
    "df15[\"year\"].unique()"
   ]
  },
  {
   "cell_type": "code",
   "execution_count": 43,
   "metadata": {
    "collapsed": true
   },
   "outputs": [],
   "source": [
    "# group by and sum\n",
    "df2015 = df15.groupby([\"year\",\"County\",\"City\",\"Store Number\"])[\"Sale (Dollars)\"].sum()\n",
    "\n",
    "\n",
    "#syntax:\n",
    "#dataframe.groupby([\"column\",\"column\"])[\"column you want aggregrate to act on\"].aggregrate function()\n",
    "#data.groupby(['col1', 'col2'])['col3'].mean()"
   ]
  },
  {
   "cell_type": "code",
   "execution_count": 44,
   "metadata": {
    "collapsed": false
   },
   "outputs": [],
   "source": [
    "# convert to dataframe\n",
    "\n",
    "df2015_2 = df2015.to_frame()"
   ]
  },
  {
   "cell_type": "code",
   "execution_count": null,
   "metadata": {
    "collapsed": false
   },
   "outputs": [],
   "source": []
  },
  {
   "cell_type": "code",
   "execution_count": 45,
   "metadata": {
    "collapsed": false
   },
   "outputs": [
    {
     "data": {
      "text/html": [
       "<div>\n",
       "<table border=\"1\" class=\"dataframe\">\n",
       "  <thead>\n",
       "    <tr style=\"text-align: right;\">\n",
       "      <th></th>\n",
       "      <th></th>\n",
       "      <th></th>\n",
       "      <th></th>\n",
       "      <th>Sale (Dollars)</th>\n",
       "    </tr>\n",
       "    <tr>\n",
       "      <th>year</th>\n",
       "      <th>County</th>\n",
       "      <th>City</th>\n",
       "      <th>Store Number</th>\n",
       "      <th></th>\n",
       "    </tr>\n",
       "  </thead>\n",
       "  <tbody>\n",
       "    <tr>\n",
       "      <th rowspan=\"5\" valign=\"top\">2015</th>\n",
       "      <th rowspan=\"5\" valign=\"top\">Adair</th>\n",
       "      <th rowspan=\"2\" valign=\"top\">ADAIR</th>\n",
       "      <th>4417</th>\n",
       "      <td>3482.94</td>\n",
       "    </tr>\n",
       "    <tr>\n",
       "      <th>4753</th>\n",
       "      <td>1475.10</td>\n",
       "    </tr>\n",
       "    <tr>\n",
       "      <th>FONTANELLE</th>\n",
       "      <th>4620</th>\n",
       "      <td>6495.09</td>\n",
       "    </tr>\n",
       "    <tr>\n",
       "      <th rowspan=\"2\" valign=\"top\">GREENFIELD</th>\n",
       "      <th>3969</th>\n",
       "      <td>1393.94</td>\n",
       "    </tr>\n",
       "    <tr>\n",
       "      <th>4317</th>\n",
       "      <td>9983.13</td>\n",
       "    </tr>\n",
       "  </tbody>\n",
       "</table>\n",
       "</div>"
      ],
      "text/plain": [
       "                                     Sale (Dollars)\n",
       "year County City       Store Number                \n",
       "2015 Adair  ADAIR      4417                 3482.94\n",
       "                       4753                 1475.10\n",
       "            FONTANELLE 4620                 6495.09\n",
       "            GREENFIELD 3969                 1393.94\n",
       "                       4317                 9983.13"
      ]
     },
     "execution_count": 45,
     "metadata": {},
     "output_type": "execute_result"
    }
   ],
   "source": [
    "df2015_2.head()"
   ]
  },
  {
   "cell_type": "code",
   "execution_count": null,
   "metadata": {
    "collapsed": true
   },
   "outputs": [],
   "source": []
  },
  {
   "cell_type": "code",
   "execution_count": 46,
   "metadata": {
    "collapsed": false
   },
   "outputs": [
    {
     "data": {
      "text/plain": [
       "Index([u'Sale (Dollars)'], dtype='object')"
      ]
     },
     "execution_count": 46,
     "metadata": {},
     "output_type": "execute_result"
    }
   ],
   "source": [
    "df2015_2.columns"
   ]
  },
  {
   "cell_type": "code",
   "execution_count": 47,
   "metadata": {
    "collapsed": true
   },
   "outputs": [],
   "source": [
    "df2015_2 = df2015.reset_index()"
   ]
  },
  {
   "cell_type": "code",
   "execution_count": 48,
   "metadata": {
    "collapsed": false
   },
   "outputs": [
    {
     "data": {
      "text/html": [
       "<div>\n",
       "<table border=\"1\" class=\"dataframe\">\n",
       "  <thead>\n",
       "    <tr style=\"text-align: right;\">\n",
       "      <th></th>\n",
       "      <th>year</th>\n",
       "      <th>County</th>\n",
       "      <th>City</th>\n",
       "      <th>Store Number</th>\n",
       "      <th>Sale (Dollars)</th>\n",
       "    </tr>\n",
       "  </thead>\n",
       "  <tbody>\n",
       "    <tr>\n",
       "      <th>0</th>\n",
       "      <td>2015</td>\n",
       "      <td>Adair</td>\n",
       "      <td>ADAIR</td>\n",
       "      <td>4417</td>\n",
       "      <td>3482.94</td>\n",
       "    </tr>\n",
       "    <tr>\n",
       "      <th>1</th>\n",
       "      <td>2015</td>\n",
       "      <td>Adair</td>\n",
       "      <td>ADAIR</td>\n",
       "      <td>4753</td>\n",
       "      <td>1475.10</td>\n",
       "    </tr>\n",
       "    <tr>\n",
       "      <th>2</th>\n",
       "      <td>2015</td>\n",
       "      <td>Adair</td>\n",
       "      <td>FONTANELLE</td>\n",
       "      <td>4620</td>\n",
       "      <td>6495.09</td>\n",
       "    </tr>\n",
       "    <tr>\n",
       "      <th>3</th>\n",
       "      <td>2015</td>\n",
       "      <td>Adair</td>\n",
       "      <td>GREENFIELD</td>\n",
       "      <td>3969</td>\n",
       "      <td>1393.94</td>\n",
       "    </tr>\n",
       "    <tr>\n",
       "      <th>4</th>\n",
       "      <td>2015</td>\n",
       "      <td>Adair</td>\n",
       "      <td>GREENFIELD</td>\n",
       "      <td>4317</td>\n",
       "      <td>9983.13</td>\n",
       "    </tr>\n",
       "  </tbody>\n",
       "</table>\n",
       "</div>"
      ],
      "text/plain": [
       "   year County        City  Store Number  Sale (Dollars)\n",
       "0  2015  Adair       ADAIR          4417         3482.94\n",
       "1  2015  Adair       ADAIR          4753         1475.10\n",
       "2  2015  Adair  FONTANELLE          4620         6495.09\n",
       "3  2015  Adair  GREENFIELD          3969         1393.94\n",
       "4  2015  Adair  GREENFIELD          4317         9983.13"
      ]
     },
     "execution_count": 48,
     "metadata": {},
     "output_type": "execute_result"
    }
   ],
   "source": [
    "df2015_2.head()"
   ]
  },
  {
   "cell_type": "code",
   "execution_count": null,
   "metadata": {
    "collapsed": false
   },
   "outputs": [],
   "source": []
  },
  {
   "cell_type": "code",
   "execution_count": 49,
   "metadata": {
    "collapsed": false
   },
   "outputs": [
    {
     "data": {
      "text/plain": [
       "3782    2\n",
       "4092    1\n",
       "2593    1\n",
       "2585    1\n",
       "4634    1\n",
       "4635    1\n",
       "2588    1\n",
       "4637    1\n",
       "2590    1\n",
       "2591    1\n",
       "2592    1\n",
       "4642    1\n",
       "4631    1\n",
       "2595    1\n",
       "4644    1\n",
       "2597    1\n",
       "4647    1\n",
       "4648    1\n",
       "2601    1\n",
       "2602    1\n",
       "4651    1\n",
       "2584    1\n",
       "2582    1\n",
       "4653    1\n",
       "4629    1\n",
       "2564    1\n",
       "4613    1\n",
       "2566    1\n",
       "2652    1\n",
       "2568    1\n",
       "       ..\n",
       "5149    1\n",
       "5150    1\n",
       "5151    1\n",
       "5152    1\n",
       "5153    1\n",
       "5154    1\n",
       "5155    1\n",
       "5156    1\n",
       "5139    1\n",
       "5137    1\n",
       "4630    1\n",
       "5136    1\n",
       "5117    1\n",
       "5118    1\n",
       "5119    1\n",
       "2609    1\n",
       "5121    1\n",
       "5123    1\n",
       "5124    1\n",
       "5125    1\n",
       "5126    1\n",
       "4728    1\n",
       "5128    1\n",
       "5129    1\n",
       "5131    1\n",
       "5132    1\n",
       "5133    1\n",
       "5134    1\n",
       "5135    1\n",
       "4097    1\n",
       "Name: Store Number, dtype: int64"
      ]
     },
     "execution_count": 49,
     "metadata": {},
     "output_type": "execute_result"
    }
   ],
   "source": [
    "df2015_2[\"Store Number\"].value_counts()"
   ]
  },
  {
   "cell_type": "code",
   "execution_count": 50,
   "metadata": {
    "collapsed": false
   },
   "outputs": [
    {
     "ename": "AttributeError",
     "evalue": "'Series' object has no attribute 'columns'",
     "output_type": "error",
     "traceback": [
      "\u001b[0;31m---------------------------------------------------------------------------\u001b[0m",
      "\u001b[0;31mAttributeError\u001b[0m                            Traceback (most recent call last)",
      "\u001b[0;32m<ipython-input-50-4f350edcb871>\u001b[0m in \u001b[0;36m<module>\u001b[0;34m()\u001b[0m\n\u001b[0;32m----> 1\u001b[0;31m \u001b[0mdf2015\u001b[0m\u001b[0;34m.\u001b[0m\u001b[0mcolumns\u001b[0m\u001b[0;34m\u001b[0m\u001b[0m\n\u001b[0m",
      "\u001b[0;32m//anaconda/lib/python2.7/site-packages/pandas/core/generic.pyc\u001b[0m in \u001b[0;36m__getattr__\u001b[0;34m(self, name)\u001b[0m\n\u001b[1;32m   2663\u001b[0m         if (name in self._internal_names_set or name in self._metadata or\n\u001b[1;32m   2664\u001b[0m                 name in self._accessors):\n\u001b[0;32m-> 2665\u001b[0;31m             \u001b[0;32mreturn\u001b[0m \u001b[0mobject\u001b[0m\u001b[0;34m.\u001b[0m\u001b[0m__getattribute__\u001b[0m\u001b[0;34m(\u001b[0m\u001b[0mself\u001b[0m\u001b[0;34m,\u001b[0m \u001b[0mname\u001b[0m\u001b[0;34m)\u001b[0m\u001b[0;34m\u001b[0m\u001b[0m\n\u001b[0m\u001b[1;32m   2666\u001b[0m         \u001b[0;32melse\u001b[0m\u001b[0;34m:\u001b[0m\u001b[0;34m\u001b[0m\u001b[0m\n\u001b[1;32m   2667\u001b[0m             \u001b[0;32mif\u001b[0m \u001b[0mname\u001b[0m \u001b[0;32min\u001b[0m \u001b[0mself\u001b[0m\u001b[0;34m.\u001b[0m\u001b[0m_info_axis\u001b[0m\u001b[0;34m:\u001b[0m\u001b[0;34m\u001b[0m\u001b[0m\n",
      "\u001b[0;31mAttributeError\u001b[0m: 'Series' object has no attribute 'columns'"
     ]
    }
   ],
   "source": [
    "df2015.columns"
   ]
  },
  {
   "cell_type": "code",
   "execution_count": 51,
   "metadata": {
    "collapsed": false
   },
   "outputs": [
    {
     "ename": "KeyError",
     "evalue": "'Store Number'",
     "output_type": "error",
     "traceback": [
      "\u001b[0;31m---------------------------------------------------------------------------\u001b[0m",
      "\u001b[0;31mKeyError\u001b[0m                                  Traceback (most recent call last)",
      "\u001b[0;32m<ipython-input-51-7c374d26a5b2>\u001b[0m in \u001b[0;36m<module>\u001b[0;34m()\u001b[0m\n\u001b[0;32m----> 1\u001b[0;31m \u001b[0mdf2015\u001b[0m\u001b[0;34m[\u001b[0m\u001b[0;34m\"Store Number\"\u001b[0m\u001b[0;34m]\u001b[0m\u001b[0;34m.\u001b[0m\u001b[0mcount\u001b[0m\u001b[0;34m(\u001b[0m\u001b[0;34m)\u001b[0m\u001b[0;34m\u001b[0m\u001b[0m\n\u001b[0m\u001b[1;32m      2\u001b[0m \u001b[0;31m# of stores in the sample\u001b[0m\u001b[0;34m\u001b[0m\u001b[0;34m\u001b[0m\u001b[0m\n",
      "\u001b[0;32m//anaconda/lib/python2.7/site-packages/pandas/core/series.pyc\u001b[0m in \u001b[0;36m__getitem__\u001b[0;34m(self, key)\u001b[0m\n\u001b[1;32m    558\u001b[0m     \u001b[0;32mdef\u001b[0m \u001b[0m__getitem__\u001b[0m\u001b[0;34m(\u001b[0m\u001b[0mself\u001b[0m\u001b[0;34m,\u001b[0m \u001b[0mkey\u001b[0m\u001b[0;34m)\u001b[0m\u001b[0;34m:\u001b[0m\u001b[0;34m\u001b[0m\u001b[0m\n\u001b[1;32m    559\u001b[0m         \u001b[0;32mtry\u001b[0m\u001b[0;34m:\u001b[0m\u001b[0;34m\u001b[0m\u001b[0m\n\u001b[0;32m--> 560\u001b[0;31m             \u001b[0mresult\u001b[0m \u001b[0;34m=\u001b[0m \u001b[0mself\u001b[0m\u001b[0;34m.\u001b[0m\u001b[0mindex\u001b[0m\u001b[0;34m.\u001b[0m\u001b[0mget_value\u001b[0m\u001b[0;34m(\u001b[0m\u001b[0mself\u001b[0m\u001b[0;34m,\u001b[0m \u001b[0mkey\u001b[0m\u001b[0;34m)\u001b[0m\u001b[0;34m\u001b[0m\u001b[0m\n\u001b[0m\u001b[1;32m    561\u001b[0m \u001b[0;34m\u001b[0m\u001b[0m\n\u001b[1;32m    562\u001b[0m             \u001b[0;32mif\u001b[0m \u001b[0;32mnot\u001b[0m \u001b[0mlib\u001b[0m\u001b[0;34m.\u001b[0m\u001b[0misscalar\u001b[0m\u001b[0;34m(\u001b[0m\u001b[0mresult\u001b[0m\u001b[0;34m)\u001b[0m\u001b[0;34m:\u001b[0m\u001b[0;34m\u001b[0m\u001b[0m\n",
      "\u001b[0;32m//anaconda/lib/python2.7/site-packages/pandas/indexes/multi.pyc\u001b[0m in \u001b[0;36mget_value\u001b[0;34m(self, series, key)\u001b[0m\n\u001b[1;32m    618\u001b[0m                     \u001b[0;32mraise\u001b[0m \u001b[0mInvalidIndexError\u001b[0m\u001b[0;34m(\u001b[0m\u001b[0mkey\u001b[0m\u001b[0;34m)\u001b[0m\u001b[0;34m\u001b[0m\u001b[0m\n\u001b[1;32m    619\u001b[0m                 \u001b[0;32melse\u001b[0m\u001b[0;34m:\u001b[0m\u001b[0;34m\u001b[0m\u001b[0m\n\u001b[0;32m--> 620\u001b[0;31m                     \u001b[0;32mraise\u001b[0m \u001b[0me1\u001b[0m\u001b[0;34m\u001b[0m\u001b[0m\n\u001b[0m\u001b[1;32m    621\u001b[0m             \u001b[0;32mexcept\u001b[0m \u001b[0mException\u001b[0m\u001b[0;34m:\u001b[0m  \u001b[0;31m# pragma: no cover\u001b[0m\u001b[0;34m\u001b[0m\u001b[0m\n\u001b[1;32m    622\u001b[0m                 \u001b[0;32mraise\u001b[0m \u001b[0me1\u001b[0m\u001b[0;34m\u001b[0m\u001b[0m\n",
      "\u001b[0;31mKeyError\u001b[0m: 'Store Number'"
     ]
    }
   ],
   "source": [
    "df2015[\"Store Number\"].count()\n",
    "# of stores in the sample"
   ]
  },
  {
   "cell_type": "code",
   "execution_count": null,
   "metadata": {
    "collapsed": false
   },
   "outputs": [],
   "source": [
    "df2015[\"County\"].count()"
   ]
  },
  {
   "cell_type": "code",
   "execution_count": 53,
   "metadata": {
    "collapsed": false
   },
   "outputs": [
    {
     "ename": "KeyError",
     "evalue": "'Store Number'",
     "output_type": "error",
     "traceback": [
      "\u001b[0;31m---------------------------------------------------------------------------\u001b[0m",
      "\u001b[0;31mKeyError\u001b[0m                                  Traceback (most recent call last)",
      "\u001b[0;32m<ipython-input-53-35176a30f01a>\u001b[0m in \u001b[0;36m<module>\u001b[0;34m()\u001b[0m\n\u001b[1;32m      1\u001b[0m \u001b[0;31m#subest store number\u001b[0m\u001b[0;34m\u001b[0m\u001b[0;34m\u001b[0m\u001b[0m\n\u001b[1;32m      2\u001b[0m \u001b[0;34m\u001b[0m\u001b[0m\n\u001b[0;32m----> 3\u001b[0;31m \u001b[0msn\u001b[0m \u001b[0;34m=\u001b[0m \u001b[0mlist\u001b[0m\u001b[0;34m(\u001b[0m\u001b[0mdf2015\u001b[0m\u001b[0;34m[\u001b[0m\u001b[0;34m\"Store Number\"\u001b[0m\u001b[0;34m]\u001b[0m\u001b[0;34m.\u001b[0m\u001b[0mvalues\u001b[0m\u001b[0;34m)\u001b[0m\u001b[0;34m\u001b[0m\u001b[0m\n\u001b[0m\u001b[1;32m      4\u001b[0m \u001b[0msd\u001b[0m \u001b[0;34m=\u001b[0m \u001b[0mlist\u001b[0m\u001b[0;34m(\u001b[0m\u001b[0mdf2015\u001b[0m\u001b[0;34m[\u001b[0m\u001b[0;34m\"Sale (Dollars)\"\u001b[0m\u001b[0;34m]\u001b[0m\u001b[0;34m.\u001b[0m\u001b[0mvalues\u001b[0m\u001b[0;34m)\u001b[0m\u001b[0;34m\u001b[0m\u001b[0m\n\u001b[1;32m      5\u001b[0m \u001b[0;34m\u001b[0m\u001b[0m\n",
      "\u001b[0;32m//anaconda/lib/python2.7/site-packages/pandas/core/series.pyc\u001b[0m in \u001b[0;36m__getitem__\u001b[0;34m(self, key)\u001b[0m\n\u001b[1;32m    558\u001b[0m     \u001b[0;32mdef\u001b[0m \u001b[0m__getitem__\u001b[0m\u001b[0;34m(\u001b[0m\u001b[0mself\u001b[0m\u001b[0;34m,\u001b[0m \u001b[0mkey\u001b[0m\u001b[0;34m)\u001b[0m\u001b[0;34m:\u001b[0m\u001b[0;34m\u001b[0m\u001b[0m\n\u001b[1;32m    559\u001b[0m         \u001b[0;32mtry\u001b[0m\u001b[0;34m:\u001b[0m\u001b[0;34m\u001b[0m\u001b[0m\n\u001b[0;32m--> 560\u001b[0;31m             \u001b[0mresult\u001b[0m \u001b[0;34m=\u001b[0m \u001b[0mself\u001b[0m\u001b[0;34m.\u001b[0m\u001b[0mindex\u001b[0m\u001b[0;34m.\u001b[0m\u001b[0mget_value\u001b[0m\u001b[0;34m(\u001b[0m\u001b[0mself\u001b[0m\u001b[0;34m,\u001b[0m \u001b[0mkey\u001b[0m\u001b[0;34m)\u001b[0m\u001b[0;34m\u001b[0m\u001b[0m\n\u001b[0m\u001b[1;32m    561\u001b[0m \u001b[0;34m\u001b[0m\u001b[0m\n\u001b[1;32m    562\u001b[0m             \u001b[0;32mif\u001b[0m \u001b[0;32mnot\u001b[0m \u001b[0mlib\u001b[0m\u001b[0;34m.\u001b[0m\u001b[0misscalar\u001b[0m\u001b[0;34m(\u001b[0m\u001b[0mresult\u001b[0m\u001b[0;34m)\u001b[0m\u001b[0;34m:\u001b[0m\u001b[0;34m\u001b[0m\u001b[0m\n",
      "\u001b[0;32m//anaconda/lib/python2.7/site-packages/pandas/indexes/multi.pyc\u001b[0m in \u001b[0;36mget_value\u001b[0;34m(self, series, key)\u001b[0m\n\u001b[1;32m    618\u001b[0m                     \u001b[0;32mraise\u001b[0m \u001b[0mInvalidIndexError\u001b[0m\u001b[0;34m(\u001b[0m\u001b[0mkey\u001b[0m\u001b[0;34m)\u001b[0m\u001b[0;34m\u001b[0m\u001b[0m\n\u001b[1;32m    619\u001b[0m                 \u001b[0;32melse\u001b[0m\u001b[0;34m:\u001b[0m\u001b[0;34m\u001b[0m\u001b[0m\n\u001b[0;32m--> 620\u001b[0;31m                     \u001b[0;32mraise\u001b[0m \u001b[0me1\u001b[0m\u001b[0;34m\u001b[0m\u001b[0m\n\u001b[0m\u001b[1;32m    621\u001b[0m             \u001b[0;32mexcept\u001b[0m \u001b[0mException\u001b[0m\u001b[0;34m:\u001b[0m  \u001b[0;31m# pragma: no cover\u001b[0m\u001b[0;34m\u001b[0m\u001b[0m\n\u001b[1;32m    622\u001b[0m                 \u001b[0;32mraise\u001b[0m \u001b[0me1\u001b[0m\u001b[0;34m\u001b[0m\u001b[0m\n",
      "\u001b[0;31mKeyError\u001b[0m: 'Store Number'"
     ]
    }
   ],
   "source": [
    "#subest store number \n",
    "\n",
    "sn = list(df2015[\"Store Number\"].values)\n",
    "sd = list(df2015[\"Sale (Dollars)\"].values)\n",
    "\n",
    "# Sales Revenue for each store in sample for 2015\n",
    "# include in final presentation\n",
    "store_sales = dict(zip(sn,sd)) \n"
   ]
  },
  {
   "cell_type": "code",
   "execution_count": 52,
   "metadata": {
    "collapsed": false
   },
   "outputs": [],
   "source": [
    "\n",
    "df_1 = df.copy()"
   ]
  },
  {
   "cell_type": "code",
   "execution_count": 54,
   "metadata": {
    "collapsed": false
   },
   "outputs": [
    {
     "ename": "NameError",
     "evalue": "name 'df_2015' is not defined",
     "output_type": "error",
     "traceback": [
      "\u001b[0;31m---------------------------------------------------------------------------\u001b[0m",
      "\u001b[0;31mNameError\u001b[0m                                 Traceback (most recent call last)",
      "\u001b[0;32m<ipython-input-54-855132292421>\u001b[0m in \u001b[0;36m<module>\u001b[0;34m()\u001b[0m\n\u001b[0;32m----> 1\u001b[0;31m \u001b[0mxtrain_2015\u001b[0m \u001b[0;34m=\u001b[0m \u001b[0mdf_2015\u001b[0m\u001b[0;34m[\u001b[0m\u001b[0mcols\u001b[0m\u001b[0;34m]\u001b[0m\u001b[0;34m\u001b[0m\u001b[0m\n\u001b[0m\u001b[1;32m      2\u001b[0m \u001b[0mytrain_2015\u001b[0m \u001b[0;34m=\u001b[0m \u001b[0mdf_2015\u001b[0m\u001b[0;34m[\u001b[0m\u001b[0;34m\"Sale (Dollars)\"\u001b[0m\u001b[0;34m]\u001b[0m\u001b[0;34m\u001b[0m\u001b[0m\n\u001b[1;32m      3\u001b[0m \u001b[0mxtest_2016\u001b[0m \u001b[0;34m=\u001b[0m \u001b[0mdf_2016\u001b[0m\u001b[0;34m[\u001b[0m\u001b[0mcols\u001b[0m\u001b[0;34m]\u001b[0m\u001b[0;34m\u001b[0m\u001b[0m\n\u001b[1;32m      4\u001b[0m \u001b[0mytest_2016\u001b[0m \u001b[0;34m=\u001b[0m \u001b[0mdf_2016\u001b[0m\u001b[0;34m[\u001b[0m\u001b[0;34m\"Sale (Dollars)\"\u001b[0m\u001b[0;34m]\u001b[0m\u001b[0;34m\u001b[0m\u001b[0m\n\u001b[1;32m      5\u001b[0m \u001b[0mlr\u001b[0m\u001b[0;34m.\u001b[0m\u001b[0mfit\u001b[0m\u001b[0;34m(\u001b[0m\u001b[0mxtrain_2015\u001b[0m\u001b[0;34m,\u001b[0m\u001b[0mytrain_2015\u001b[0m\u001b[0;34m)\u001b[0m\u001b[0;34m\u001b[0m\u001b[0m\n",
      "\u001b[0;31mNameError\u001b[0m: name 'df_2015' is not defined"
     ]
    }
   ],
   "source": [
    "xtrain_2015 = df_2015[cols]\n",
    "ytrain_2015 = df_2015[\"Sale (Dollars)\"]\n",
    "xtest_2016 = df_2016[cols]\n",
    "ytest_2016 = df_2016[\"Sale (Dollars)\"]\n",
    "lr.fit(xtrain_2015,ytrain_2015)"
   ]
  },
  {
   "cell_type": "code",
   "execution_count": 56,
   "metadata": {
    "collapsed": false
   },
   "outputs": [
    {
     "ename": "NameError",
     "evalue": "name 'xtest_2016' is not defined",
     "output_type": "error",
     "traceback": [
      "\u001b[0;31m---------------------------------------------------------------------------\u001b[0m",
      "\u001b[0;31mNameError\u001b[0m                                 Traceback (most recent call last)",
      "\u001b[0;32m<ipython-input-56-e39da2a052de>\u001b[0m in \u001b[0;36m<module>\u001b[0;34m()\u001b[0m\n\u001b[0;32m----> 1\u001b[0;31m \u001b[0mpred\u001b[0m \u001b[0;34m=\u001b[0m \u001b[0mlr\u001b[0m\u001b[0;34m.\u001b[0m\u001b[0mpredict\u001b[0m\u001b[0;34m(\u001b[0m\u001b[0mxtest_2016\u001b[0m\u001b[0;34m)\u001b[0m\u001b[0;34m\u001b[0m\u001b[0m\n\u001b[0m",
      "\u001b[0;31mNameError\u001b[0m: name 'xtest_2016' is not defined"
     ]
    }
   ],
   "source": [
    "pred = lr.predict(xtest_2016)"
   ]
  },
  {
   "cell_type": "code",
   "execution_count": 57,
   "metadata": {
    "collapsed": false
   },
   "outputs": [
    {
     "ename": "NameError",
     "evalue": "name 'xtest_2016' is not defined",
     "output_type": "error",
     "traceback": [
      "\u001b[0;31m---------------------------------------------------------------------------\u001b[0m",
      "\u001b[0;31mNameError\u001b[0m                                 Traceback (most recent call last)",
      "\u001b[0;32m<ipython-input-57-ff4f3ccf55c7>\u001b[0m in \u001b[0;36m<module>\u001b[0;34m()\u001b[0m\n\u001b[0;32m----> 1\u001b[0;31m \u001b[0mlr\u001b[0m\u001b[0;34m.\u001b[0m\u001b[0mscore\u001b[0m\u001b[0;34m(\u001b[0m\u001b[0mxtest_2016\u001b[0m\u001b[0;34m,\u001b[0m\u001b[0mytest_2016\u001b[0m\u001b[0;34m)\u001b[0m\u001b[0;34m\u001b[0m\u001b[0m\n\u001b[0m",
      "\u001b[0;31mNameError\u001b[0m: name 'xtest_2016' is not defined"
     ]
    }
   ],
   "source": [
    "lr.score(xtest_2016,ytest_2016)"
   ]
  },
  {
   "cell_type": "code",
   "execution_count": 58,
   "metadata": {
    "collapsed": false,
    "scrolled": true
   },
   "outputs": [
    {
     "name": "stdout",
     "output_type": "stream",
     "text": [
      "75856      94.20\n",
      "209607     36.00\n",
      "4870       43.60\n",
      "22247     148.56\n",
      "101994     11.43\n",
      "169492     98.94\n",
      "249679     27.00\n",
      "110173    816.48\n",
      "18106      27.63\n",
      "109204    226.68\n",
      "Name: Sale (Dollars), dtype: float64\n"
     ]
    }
   ],
   "source": [
    "from sklearn.linear_model import LinearRegression\n",
    "from sklearn.cross_validation import train_test_split\n",
    "lr = LinearRegression()\n",
    "\n",
    "df_2015= df_1[df_1['year'] == 2015]\n",
    "df_2016 = df_1[df_1['year'] == 2016]\n",
    "\n",
    "cols = ['County Number','Store Number','Category','State Bottle Cost','State Bottle Retail','Bottles Sold','Volume Sold (Liters)','year','month']\n",
    "x= df_2015[cols]\n",
    "y = df_2015['Sale (Dollars)']\n",
    "x_train, x_test, y_train, y_test = train_test_split(x,y,test_size = .33)\n",
    "\n",
    "\n",
    "lr.fit(x_train,y_train)\n",
    "\n",
    "print y_train[0:10]\n",
    "\n",
    "# print df_1.columns\n",
    "# fit a OLS model\n",
    "#X = sm.add_constant(x)\n",
    "#est = sm.OLS(y, X.astype(float)).fit()\n",
    "\n",
    "#print est.summary()"
   ]
  },
  {
   "cell_type": "code",
   "execution_count": 221,
   "metadata": {
    "collapsed": false
   },
   "outputs": [
    {
     "data": {
      "text/plain": [
       "LinearRegression(copy_X=True, fit_intercept=True, n_jobs=1, normalize=True)"
      ]
     },
     "execution_count": 221,
     "metadata": {},
     "output_type": "execute_result"
    }
   ],
   "source": [
    "from sklearn.linear_model import LinearRegression\n",
    "from sklearn.cross_validation import train_test_split\n",
    "lr = LinearRegression(normalize=True)\n",
    "\n",
    "df_2015= df_1[df_1['year'] == 2015]\n",
    "df_2015_train = df_2015[df_2015['month'] < 4]\n",
    "\n",
    "df_2015_test = df_2015[df_2015['month'] >= 4]\n",
    "df_2016 = df_1[df_1['year'] == 2016]\n",
    "\n",
    "\n",
    "cols = ['Store Number','County Number','Category','Vendor Number','Item Number','State Bottle Cost','State Bottle Retail','Bottles Sold','Volume Sold (Liters)','Volume Sold (Gallons)','year','month']\n",
    "x_train = df_2015_train[cols]\n",
    "y_train = df_2015_train['Sale (Dollars)']\n",
    "x_test = df_2015_test[cols]\n",
    "y_test = df_2015_test['Sale (Dollars)']\n",
    "#x= df_2015[cols]\n",
    "#y = df_2015['Sale (Dollars)']\n",
    "#x_train, x_test, y_train, y_test = train_test_split(x,y,test_size = .33)\n",
    "\n",
    "\n",
    "lr.fit(x_train,y_train)\n",
    "\n",
    "#print y_train[0:10]"
   ]
  },
  {
   "cell_type": "code",
   "execution_count": 222,
   "metadata": {
    "collapsed": false
   },
   "outputs": [],
   "source": [
    "from sklearn.cross_validation import StratifiedKFold\n",
    "skf = StratifiedKFold(df_2015['Sale (Dollars)'], n_folds =5)"
   ]
  },
  {
   "cell_type": "code",
   "execution_count": null,
   "metadata": {
    "collapsed": true
   },
   "outputs": [],
   "source": []
  },
  {
   "cell_type": "code",
   "execution_count": 223,
   "metadata": {
    "collapsed": false
   },
   "outputs": [],
   "source": [
    "x_test = df_2015_test[cols]\n",
    "y_test = df_2015_test['Sale (Dollars)']\n",
    "prediction = lr.predict(x_test)"
   ]
  },
  {
   "cell_type": "code",
   "execution_count": 224,
   "metadata": {
    "collapsed": false
   },
   "outputs": [
    {
     "data": {
      "text/plain": [
       "0.75285624178841082"
      ]
     },
     "execution_count": 224,
     "metadata": {},
     "output_type": "execute_result"
    }
   ],
   "source": [
    "lr.score(x_test,y_test)"
   ]
  },
  {
   "cell_type": "code",
   "execution_count": 225,
   "metadata": {
    "collapsed": true
   },
   "outputs": [],
   "source": [
    "x = df_2016[cols]\n",
    "y = df_2016['Sale (Dollars)']"
   ]
  },
  {
   "cell_type": "code",
   "execution_count": 226,
   "metadata": {
    "collapsed": false
   },
   "outputs": [
    {
     "name": "stdout",
     "output_type": "stream",
     "text": [
      "[  41.26  453.36   85.5  ...,   51.3    21.44   14.26]\n"
     ]
    },
    {
     "data": {
      "text/plain": [
       "(51400,)"
      ]
     },
     "execution_count": 226,
     "metadata": {},
     "output_type": "execute_result"
    }
   ],
   "source": [
    "pred = lr.predict(x)\n",
    "#print pred\n",
    "\n",
    "y = np.array(y)\n",
    "print y\n",
    "#type(pred)\n",
    "y.shape\n"
   ]
  },
  {
   "cell_type": "code",
   "execution_count": 227,
   "metadata": {
    "collapsed": false
   },
   "outputs": [
    {
     "data": {
      "text/plain": [
       "0.78862347533871546"
      ]
     },
     "execution_count": 227,
     "metadata": {},
     "output_type": "execute_result"
    }
   ],
   "source": [
    "lr.score(x,y)"
   ]
  },
  {
   "cell_type": "code",
   "execution_count": 228,
   "metadata": {
    "collapsed": false
   },
   "outputs": [
    {
     "data": {
      "text/plain": [
       "<matplotlib.collections.PathCollection at 0x128c1ac50>"
      ]
     },
     "execution_count": 228,
     "metadata": {},
     "output_type": "execute_result"
    },
    {
     "data": {
      "image/png": "[encoded data removed]",
      "text/plain": [
       "<matplotlib.figure.Figure at 0x1297dbe90>"
      ]
     },
     "metadata": {},
     "output_type": "display_data"
    }
   ],
   "source": [
    "plt.scatter(prediction,y_test)"
   ]
  },
  {
   "cell_type": "code",
   "execution_count": null,
   "metadata": {
    "collapsed": true
   },
   "outputs": [],
   "source": []
  },
  {
   "cell_type": "code",
   "execution_count": 229,
   "metadata": {
    "collapsed": false
   },
   "outputs": [
    {
     "data": {
      "text/plain": [
       "0.75285624178841082"
      ]
     },
     "execution_count": 229,
     "metadata": {},
     "output_type": "execute_result"
    }
   ],
   "source": [
    "lr.score(x_test,y_test)\n",
    "\n"
   ]
  },
  {
   "cell_type": "code",
   "execution_count": 230,
   "metadata": {
    "collapsed": false
   },
   "outputs": [
    {
     "data": {
      "text/plain": [
       "<matplotlib.collections.PathCollection at 0x132126250>"
      ]
     },
     "execution_count": 230,
     "metadata": {},
     "output_type": "execute_result"
    },
    {
     "data": {
      "image/png": "[encoded data removed]",
      "text/plain": [
       "<matplotlib.figure.Figure at 0x1321f3dd0>"
      ]
     },
     "metadata": {},
     "output_type": "display_data"
    }
   ],
   "source": [
    "plt.scatter(prediction,y_test)\n"
   ]
  },
  {
   "cell_type": "code",
   "execution_count": null,
   "metadata": {
    "collapsed": false
   },
   "outputs": [],
   "source": []
  },
  {
   "cell_type": "code",
   "execution_count": null,
   "metadata": {
    "collapsed": true
   },
   "outputs": [],
   "source": []
  },
  {
   "cell_type": "code",
   "execution_count": null,
   "metadata": {
    "collapsed": true
   },
   "outputs": [],
   "source": []
  },
  {
   "cell_type": "code",
   "execution_count": 248,
   "metadata": {
    "collapsed": false
   },
   "outputs": [
    {
     "data": {
      "text/plain": [
       "<matplotlib.collections.PathCollection at 0x13214b1d0>"
      ]
     },
     "execution_count": 248,
     "metadata": {},
     "output_type": "execute_result"
    },
    {
     "data": {
      "image/png": "[encoded data removed]",
      "text/plain": [
       "<matplotlib.figure.Figure at 0x132110190>"
      ]
     },
     "metadata": {},
     "output_type": "display_data"
    }
   ],
   "source": [
    "clf = linear_model.RidgeCV(alphas=(0.1, 1.0, 10.0), normalize=True, cv=5)\n",
    "\n",
    "model2 = clf.fit(x_train,y_train)\n",
    "predictions2 = clf.predict(x_test)\n",
    "\n",
    "fig, ax = plt.subplots()\n",
    "ax.plot([y_test.min(), y_test.max()], [predictions2.min(), predictions2.max()], 'k--', lw=2)\n",
    "ax.set_xlabel('Measured')\n",
    "ax.set_ylabel('Predicted')\n",
    "\n",
    "plt.scatter(predictions2, y_test,  color='black')"
   ]
  },
  {
   "cell_type": "code",
   "execution_count": 232,
   "metadata": {
    "collapsed": false
   },
   "outputs": [
    {
     "data": {
      "text/plain": [
       "0.75287014629215609"
      ]
     },
     "execution_count": 232,
     "metadata": {},
     "output_type": "execute_result"
    }
   ],
   "source": [
    "model2.score(x_test,y_test)"
   ]
  },
  {
   "cell_type": "code",
   "execution_count": 249,
   "metadata": {
    "collapsed": false
   },
   "outputs": [
    {
     "data": {
      "text/plain": [
       "<matplotlib.collections.PathCollection at 0x132890210>"
      ]
     },
     "execution_count": 249,
     "metadata": {},
     "output_type": "execute_result"
    },
    {
     "data": {
      "image/png": "[encoded data removed]",
      "text/plain": [
       "<matplotlib.figure.Figure at 0x132163310>"
      ]
     },
     "metadata": {},
     "output_type": "display_data"
    }
   ],
   "source": [
    "clf = linear_model.RidgeCV(alphas=(0.1, 1.0, 10.0), normalize=True, cv=5)\n",
    "\n",
    "model3 = clf.fit(x_train,y_train)\n",
    "predictions3 = clf.predict(x)\n",
    "fig, ax = plt.subplots()\n",
    "ax.plot([y.min(), y.max()], [predictions3.min(), predictions3.max()], 'k--', lw=2)\n",
    "\n",
    "plt.scatter(predictions3, y,  color='black')"
   ]
  },
  {
   "cell_type": "code",
   "execution_count": 234,
   "metadata": {
    "collapsed": false
   },
   "outputs": [
    {
     "name": "stdout",
     "output_type": "stream",
     "text": [
      "Linear model: [ -2.25465231e-03   3.41320329e-02   1.28392645e-04  -2.02233723e-02\n",
      "  -7.55381304e-05   4.61427795e+01  -2.50881649e+01   8.49025580e+00\n",
      "   1.97522413e+01  -5.67614453e+01   0.00000000e+00   1.00921890e+00]\n",
      "Ridge model: [ -2.25487547e-03   3.40394947e-02   1.28440146e-04  -2.01861088e-02\n",
      "  -7.55313046e-05   4.35473031e+01  -2.33567633e+01   8.48822199e+00\n",
      "   5.02134690e+00  -9.94677575e-01   0.00000000e+00   1.00533321e+00]\n"
     ]
    }
   ],
   "source": [
    "print \"Linear model:\", lr.coef_\n",
    "print \"Ridge model:\", model2.coef_"
   ]
  },
  {
   "cell_type": "code",
   "execution_count": 235,
   "metadata": {
    "collapsed": false
   },
   "outputs": [
    {
     "name": "stdout",
     "output_type": "stream",
     "text": [
      "[(-0.0022546523134695908, -0.0022548754688175182), (0.03413203289481713, 0.034039494654384848), (0.00012839264475730304, 0.0001284401456871707), (-0.020223372310926233, -0.020186108759973682), (-7.5538130424150139e-05, -7.55313045946023e-05), (46.142779531838144, 43.547303148002975), (-25.088164887044112, -23.356763313619194), (8.4902558021560619, 8.4882219881163099), (19.752241322416726, 5.0213469022445159), (-56.761445286514331, -0.99467757467079687), (0.0, 0.0), (1.0092188998125995, 1.0053332131340751)]\n"
     ]
    }
   ],
   "source": [
    "compare = zip(lr.coef_, model2.coef_)\n",
    "print compare"
   ]
  },
  {
   "cell_type": "code",
   "execution_count": 236,
   "metadata": {
    "collapsed": false,
    "scrolled": true
   },
   "outputs": [
    {
     "name": "stdout",
     "output_type": "stream",
     "text": [
      "Linear Coeff:  -0.00225465231347  Ridge Coeff:  -0.00225487546882  Difference:  -2.23155347927e-07\n",
      "Linear Coeff:  0.0341320328948  Ridge Coeff:  0.0340394946544  Difference:  -9.25382404323e-05\n",
      "Linear Coeff:  0.000128392644757  Ridge Coeff:  0.000128440145687  Difference:  4.75009298677e-08\n",
      "Linear Coeff:  -0.0202233723109  Ridge Coeff:  -0.02018610876  Difference:  3.72635509526e-05\n",
      "Linear Coeff:  -7.55381304242e-05  Ridge Coeff:  -7.55313045946e-05  Difference:  6.82582954784e-09\n",
      "Linear Coeff:  46.1427795318  Ridge Coeff:  43.547303148  Difference:  -2.59547638384\n",
      "Linear Coeff:  -25.088164887  Ridge Coeff:  -23.3567633136  Difference:  1.73140157342\n",
      "Linear Coeff:  8.49025580216  Ridge Coeff:  8.48822198812  Difference:  -0.00203381403975\n",
      "Linear Coeff:  19.7522413224  Ridge Coeff:  5.02134690224  Difference:  -14.7308944202\n",
      "Linear Coeff:  -56.7614452865  Ridge Coeff:  -0.994677574671  Difference:  55.7667677118\n",
      "Linear Coeff:  0.0  Ridge Coeff:  0.0  Difference:  0.0\n",
      "Linear Coeff:  1.00921889981  Ridge Coeff:  1.00533321313  Difference:  -0.00388568667852\n"
     ]
    }
   ],
   "source": [
    "for i in compare:\n",
    "    print \"Linear Coeff: \", i[0], \" Ridge Coeff: \", i[1], \" Difference: \", i[1]-i[0]"
   ]
  },
  {
   "cell_type": "code",
   "execution_count": 241,
   "metadata": {
    "collapsed": false,
    "scrolled": true
   },
   "outputs": [
    {
     "data": {
      "text/html": [
       "<iframe id=\"igraph\" scrolling=\"no\" style=\"border:none;\" seamless=\"seamless\" src=\"https://plot.ly/~chrisjcw/10.embed\" height=\"525px\" width=\"100%\"></iframe>"
      ],
      "text/plain": [
       "<plotly.tools.PlotlyDisplay object>"
      ]
     },
     "execution_count": 241,
     "metadata": {},
     "output_type": "execute_result"
    }
   ],
   "source": [
    "import plotly.plotly as py\n",
    "from plotly.graph_objs import *\n",
    "\n",
    "colorscale = [[0, '#3D9970'], [1, '#001f3f']]\n",
    "\n",
    "data = [\n",
    "    go.Heatmap(\n",
    "        z=[lr.coef_, model2.coef_,(model2.coef_-lr.coef_)],\n",
    "        y=['Linear', 'Ridge', 'Difference'],\n",
    "        x=cols,\n",
    "        colorscale=colorscale, \n",
    "        showscale=False\n",
    "    )\n",
    "]\n",
    "\n",
    "        \n",
    "py.iplot(data, filename='basic-heatmap')\n"
   ]
  },
  {
   "cell_type": "code",
   "execution_count": null,
   "metadata": {
    "collapsed": false
   },
   "outputs": [],
   "source": []
  },
  {
   "cell_type": "code",
   "execution_count": null,
   "metadata": {
    "collapsed": false
   },
   "outputs": [],
   "source": []
  },
  {
   "cell_type": "code",
   "execution_count": null,
   "metadata": {
    "collapsed": true
   },
   "outputs": [],
   "source": []
  }
 ],
 "metadata": {
  "kernelspec": {
   "display_name": "Python 2",
   "language": "python",
   "name": "python2"
  },
  "language_info": {
   "codemirror_mode": {
    "name": "ipython",
    "version": 2
   },
   "file_extension": ".py",
   "mimetype": "text/x-python",
   "name": "python",
   "nbconvert_exporter": "python",
   "pygments_lexer": "ipython2",
   "version": "2.7.11"
  }
 },
 "nbformat": 4,
 "nbformat_minor": 0
}
